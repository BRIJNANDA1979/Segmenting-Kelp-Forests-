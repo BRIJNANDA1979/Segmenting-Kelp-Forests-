{
  "nbformat": 4,
  "nbformat_minor": 0,
  "metadata": {
    "colab": {
      "provenance": [],
      "mount_file_id": "1Y-pGvZ0BXY3bbZALFp4eqy9EeJI-gzfq",
      "authorship_tag": "ABX9TyNLfmN2ZcDjsOGMnHO9HzNn",
      "include_colab_link": true
    },
    "kernelspec": {
      "name": "python3",
      "display_name": "Python 3"
    },
    "language_info": {
      "name": "python"
    }
  },
  "cells": [
    {
      "cell_type": "markdown",
      "metadata": {
        "id": "view-in-github",
        "colab_type": "text"
      },
      "source": [
        "<a href=\"https://colab.research.google.com/github/BRIJNANDA1979/Segmenting-Kelp-Forests-/blob/main/1_bayes_model_KELP.ipynb\" target=\"_parent\"><img src=\"https://colab.research.google.com/assets/colab-badge.svg\" alt=\"Open In Colab\"/></a>"
      ]
    },
    {
      "cell_type": "code",
      "source": [
        "pip install rasterio"
      ],
      "metadata": {
        "colab": {
          "base_uri": "https://localhost:8080/"
        },
        "id": "fxoq-u3Q2xym",
        "outputId": "6f38ddfd-a167-4e4a-e6b0-64b9f3836289"
      },
      "execution_count": null,
      "outputs": [
        {
          "output_type": "stream",
          "name": "stdout",
          "text": [
            "Collecting rasterio\n",
            "  Downloading rasterio-1.3.9-cp310-cp310-manylinux2014_x86_64.whl (20.6 MB)\n",
            "\u001b[2K     \u001b[90m━━━━━━━━━━━━━━━━━━━━━━━━━━━━━━━━━━━━━━━━\u001b[0m \u001b[32m20.6/20.6 MB\u001b[0m \u001b[31m40.9 MB/s\u001b[0m eta \u001b[36m0:00:00\u001b[0m\n",
            "\u001b[?25hCollecting affine (from rasterio)\n",
            "  Downloading affine-2.4.0-py3-none-any.whl (15 kB)\n",
            "Requirement already satisfied: attrs in /usr/local/lib/python3.10/dist-packages (from rasterio) (23.2.0)\n",
            "Requirement already satisfied: certifi in /usr/local/lib/python3.10/dist-packages (from rasterio) (2023.11.17)\n",
            "Requirement already satisfied: click>=4.0 in /usr/local/lib/python3.10/dist-packages (from rasterio) (8.1.7)\n",
            "Requirement already satisfied: cligj>=0.5 in /usr/local/lib/python3.10/dist-packages (from rasterio) (0.7.2)\n",
            "Requirement already satisfied: numpy in /usr/local/lib/python3.10/dist-packages (from rasterio) (1.23.5)\n",
            "Collecting snuggs>=1.4.1 (from rasterio)\n",
            "  Downloading snuggs-1.4.7-py3-none-any.whl (5.4 kB)\n",
            "Requirement already satisfied: click-plugins in /usr/local/lib/python3.10/dist-packages (from rasterio) (1.1.1)\n",
            "Requirement already satisfied: setuptools in /usr/local/lib/python3.10/dist-packages (from rasterio) (67.7.2)\n",
            "Requirement already satisfied: pyparsing>=2.1.6 in /usr/local/lib/python3.10/dist-packages (from snuggs>=1.4.1->rasterio) (3.1.1)\n",
            "Installing collected packages: snuggs, affine, rasterio\n",
            "Successfully installed affine-2.4.0 rasterio-1.3.9 snuggs-1.4.7\n"
          ]
        }
      ]
    },
    {
      "cell_type": "code",
      "source": [
        "import rasterio\n",
        "from rasterio.plot import show\n",
        "import pandas as pd   ###https://docs.scipy.org/doc/scipy/reference/generated/scipy.interpolate.Rbf.html"
      ],
      "metadata": {
        "id": "0c7tmp7N23jQ"
      },
      "execution_count": null,
      "outputs": []
    },
    {
      "cell_type": "code",
      "source": [
        "import numpy as np\n",
        "from scipy.interpolate import Rbf\n",
        "rng = np.random.default_rng()\n",
        "x, y, z, d = rng.random((4, 50))\n",
        "rbfi = Rbf(x, y, z, d)  # radial basis function interpolator instance\n",
        "xi = yi = zi = np.linspace(0, 1, 20)\n",
        "di = rbfi(xi, yi, zi)   # interpolated values\n",
        "di.shape"
      ],
      "metadata": {
        "colab": {
          "base_uri": "https://localhost:8080/"
        },
        "id": "aHnW5w6MHJ9l",
        "outputId": "7899c9c7-609c-41f5-f64d-5bb2e3dd78b2"
      },
      "execution_count": null,
      "outputs": [
        {
          "output_type": "execute_result",
          "data": {
            "text/plain": [
              "(20,)"
            ]
          },
          "metadata": {},
          "execution_count": 3
        }
      ]
    },
    {
      "cell_type": "code",
      "source": [
        "di"
      ],
      "metadata": {
        "colab": {
          "base_uri": "https://localhost:8080/"
        },
        "id": "J85gJgy4HMMa",
        "outputId": "4721228a-ebc9-4f12-92a6-c1a3d61f2bd0"
      },
      "execution_count": null,
      "outputs": [
        {
          "output_type": "execute_result",
          "data": {
            "text/plain": [
              "array([-0.60442859, -0.58705574, -0.50027758, -0.3299833 , -0.10250068,\n",
              "        0.07913186,  0.0814796 , -0.07778255, -0.1402698 ,  0.07910437,\n",
              "        0.34773336,  0.36992768,  0.24671532,  0.23414934,  0.35161271,\n",
              "        0.4661392 ,  0.53656239,  0.60414523,  0.69730668,  0.81545221])"
            ]
          },
          "metadata": {},
          "execution_count": 4
        }
      ]
    },
    {
      "cell_type": "code",
      "source": [],
      "metadata": {
        "id": "YfXLnXwVx9R1"
      },
      "execution_count": null,
      "outputs": []
    },
    {
      "cell_type": "code",
      "source": [
        "from google.colab import drive\n",
        "drive.mount('/content/drive')"
      ],
      "metadata": {
        "colab": {
          "base_uri": "https://localhost:8080/"
        },
        "id": "llPUXFxIyFEu",
        "outputId": "38a28aab-cfc3-40b7-8fe5-a2ecad49d914"
      },
      "execution_count": null,
      "outputs": [
        {
          "output_type": "stream",
          "name": "stdout",
          "text": [
            "Drive already mounted at /content/drive; to attempt to forcibly remount, call drive.mount(\"/content/drive\", force_remount=True).\n"
          ]
        }
      ]
    },
    {
      "cell_type": "code",
      "source": [
        "import pandas as pd\n",
        "import os\n",
        "import rasterio\n",
        "import numpy as np\n",
        "import matplotlib.pyplot as plt"
      ],
      "metadata": {
        "id": "bzFzX_cCySzU"
      },
      "execution_count": 71,
      "outputs": []
    },
    {
      "cell_type": "code",
      "source": [
        "kelp_files = os.listdir('/content/drive/MyDrive/kelp_files_only')"
      ],
      "metadata": {
        "id": "JvPddig4yNKE"
      },
      "execution_count": 69,
      "outputs": []
    },
    {
      "cell_type": "code",
      "source": [
        "for file in kelp_files[0:1]:   ## just one file data to analyse...\n",
        "   with rasterio.open('/content/drive/MyDrive/kelp_files_only/' + file) as src:\n",
        "    swir=src.read(1)\n",
        "    nir=src.read(2)\n",
        "    red=src.read(3)\n",
        "    green=src.read(4)\n",
        "    ndvi = (nir - red) / (nir + red)\n",
        "    ndwi = (green - nir) / (green + nir)\n",
        "    mndwi = (green - swir) / (green + swir)\n",
        ""
      ],
      "metadata": {
        "id": "ICvZfNKpr0KU",
        "colab": {
          "base_uri": "https://localhost:8080/"
        },
        "outputId": "f287ba95-9cf0-4840-9976-1a713af34e27"
      },
      "execution_count": 73,
      "outputs": [
        {
          "output_type": "stream",
          "name": "stderr",
          "text": [
            "/usr/local/lib/python3.10/dist-packages/rasterio/__init__.py:304: NotGeoreferencedWarning: Dataset has no geotransform, gcps, or rpcs. The identity matrix will be returned.\n",
            "  dataset = DatasetReader(path, driver=driver, sharing=sharing, **kwargs)\n"
          ]
        }
      ]
    },
    {
      "cell_type": "code",
      "source": [
        "swir = swir.flatten()\n",
        "nir = nir.flatten()\n",
        "red = red.flatten()\n",
        "green = green.flatten()\n",
        "ndvi = ndvi.flatten()\n",
        "ndwi = ndwi.flatten()\n",
        "mndwi = mndwi.flatten()"
      ],
      "metadata": {
        "id": "wtVSMiaiF734"
      },
      "execution_count": 74,
      "outputs": []
    },
    {
      "cell_type": "code",
      "source": [
        "swir"
      ],
      "metadata": {
        "colab": {
          "base_uri": "https://localhost:8080/"
        },
        "id": "MusUsAtVGBtB",
        "outputId": "4d725dbe-adb1-4605-91ba-c2f028f3d900"
      },
      "execution_count": 75,
      "outputs": [
        {
          "output_type": "execute_result",
          "data": {
            "text/plain": [
              "array([ 8214,  8214,  8214, ..., 11715, 11465, 11215], dtype=int32)"
            ]
          },
          "metadata": {},
          "execution_count": 75
        }
      ]
    },
    {
      "cell_type": "code",
      "source": [
        "df_kelp = pd.DataFrame()  ########## 122500 pixels of one kelp file from train_satellite\n",
        "df_kelp['swir'] = swir\n",
        "df_kelp['nir'] = nir\n",
        "df_kelp['red'] = red\n",
        "df_kelp['green'] = green\n",
        "df_kelp['ndvi'] = ndvi\n",
        "df_kelp['ndwi'] = ndwi\n",
        "df_kelp['mndwi'] = mndwi\n"
      ],
      "metadata": {
        "id": "z_BDU-SgGEJJ"
      },
      "execution_count": 77,
      "outputs": []
    },
    {
      "cell_type": "code",
      "source": [
        "df_kelp.describe()"
      ],
      "metadata": {
        "colab": {
          "base_uri": "https://localhost:8080/",
          "height": 300
        },
        "id": "w5ExeQYoGSQa",
        "outputId": "7ab13a74-1438-431e-a012-cf89c19ab3e8"
      },
      "execution_count": 78,
      "outputs": [
        {
          "output_type": "execute_result",
          "data": {
            "text/plain": [
              "                swir            nir            red          green  \\\n",
              "count  122500.000000  122500.000000  122500.000000  122500.000000   \n",
              "mean     7915.717527    8588.257967    8159.067494    8347.721102   \n",
              "std       844.162427    1570.019234     409.305038     416.712849   \n",
              "min      6814.000000    7196.000000    6886.000000    6470.000000   \n",
              "25%      7463.000000    7935.000000    7866.000000    8170.000000   \n",
              "50%      7713.000000    7937.000000    8193.000000    8177.000000   \n",
              "75%      7964.000000    8306.000000    8515.000000    8600.000000   \n",
              "max     13459.000000   18207.000000   12401.000000   12367.000000   \n",
              "\n",
              "                ndvi           ndwi          mndwi  \n",
              "count  122500.000000  122500.000000  122500.000000  \n",
              "mean        0.019339      -0.007943       0.028425  \n",
              "std         0.063630       0.065905       0.039495  \n",
              "min        -0.071984      -0.317057      -0.179494  \n",
              "25%        -0.015934      -0.011859       0.017253  \n",
              "50%         0.004239       0.014653       0.035700  \n",
              "75%         0.023819       0.019501       0.054309  \n",
              "max         0.337155       0.108026       0.155058  "
            ],
            "text/html": [
              "\n",
              "  <div id=\"df-ae4cb36d-f6d9-4a0c-b8a4-40e737576526\" class=\"colab-df-container\">\n",
              "    <div>\n",
              "<style scoped>\n",
              "    .dataframe tbody tr th:only-of-type {\n",
              "        vertical-align: middle;\n",
              "    }\n",
              "\n",
              "    .dataframe tbody tr th {\n",
              "        vertical-align: top;\n",
              "    }\n",
              "\n",
              "    .dataframe thead th {\n",
              "        text-align: right;\n",
              "    }\n",
              "</style>\n",
              "<table border=\"1\" class=\"dataframe\">\n",
              "  <thead>\n",
              "    <tr style=\"text-align: right;\">\n",
              "      <th></th>\n",
              "      <th>swir</th>\n",
              "      <th>nir</th>\n",
              "      <th>red</th>\n",
              "      <th>green</th>\n",
              "      <th>ndvi</th>\n",
              "      <th>ndwi</th>\n",
              "      <th>mndwi</th>\n",
              "    </tr>\n",
              "  </thead>\n",
              "  <tbody>\n",
              "    <tr>\n",
              "      <th>count</th>\n",
              "      <td>122500.000000</td>\n",
              "      <td>122500.000000</td>\n",
              "      <td>122500.000000</td>\n",
              "      <td>122500.000000</td>\n",
              "      <td>122500.000000</td>\n",
              "      <td>122500.000000</td>\n",
              "      <td>122500.000000</td>\n",
              "    </tr>\n",
              "    <tr>\n",
              "      <th>mean</th>\n",
              "      <td>7915.717527</td>\n",
              "      <td>8588.257967</td>\n",
              "      <td>8159.067494</td>\n",
              "      <td>8347.721102</td>\n",
              "      <td>0.019339</td>\n",
              "      <td>-0.007943</td>\n",
              "      <td>0.028425</td>\n",
              "    </tr>\n",
              "    <tr>\n",
              "      <th>std</th>\n",
              "      <td>844.162427</td>\n",
              "      <td>1570.019234</td>\n",
              "      <td>409.305038</td>\n",
              "      <td>416.712849</td>\n",
              "      <td>0.063630</td>\n",
              "      <td>0.065905</td>\n",
              "      <td>0.039495</td>\n",
              "    </tr>\n",
              "    <tr>\n",
              "      <th>min</th>\n",
              "      <td>6814.000000</td>\n",
              "      <td>7196.000000</td>\n",
              "      <td>6886.000000</td>\n",
              "      <td>6470.000000</td>\n",
              "      <td>-0.071984</td>\n",
              "      <td>-0.317057</td>\n",
              "      <td>-0.179494</td>\n",
              "    </tr>\n",
              "    <tr>\n",
              "      <th>25%</th>\n",
              "      <td>7463.000000</td>\n",
              "      <td>7935.000000</td>\n",
              "      <td>7866.000000</td>\n",
              "      <td>8170.000000</td>\n",
              "      <td>-0.015934</td>\n",
              "      <td>-0.011859</td>\n",
              "      <td>0.017253</td>\n",
              "    </tr>\n",
              "    <tr>\n",
              "      <th>50%</th>\n",
              "      <td>7713.000000</td>\n",
              "      <td>7937.000000</td>\n",
              "      <td>8193.000000</td>\n",
              "      <td>8177.000000</td>\n",
              "      <td>0.004239</td>\n",
              "      <td>0.014653</td>\n",
              "      <td>0.035700</td>\n",
              "    </tr>\n",
              "    <tr>\n",
              "      <th>75%</th>\n",
              "      <td>7964.000000</td>\n",
              "      <td>8306.000000</td>\n",
              "      <td>8515.000000</td>\n",
              "      <td>8600.000000</td>\n",
              "      <td>0.023819</td>\n",
              "      <td>0.019501</td>\n",
              "      <td>0.054309</td>\n",
              "    </tr>\n",
              "    <tr>\n",
              "      <th>max</th>\n",
              "      <td>13459.000000</td>\n",
              "      <td>18207.000000</td>\n",
              "      <td>12401.000000</td>\n",
              "      <td>12367.000000</td>\n",
              "      <td>0.337155</td>\n",
              "      <td>0.108026</td>\n",
              "      <td>0.155058</td>\n",
              "    </tr>\n",
              "  </tbody>\n",
              "</table>\n",
              "</div>\n",
              "    <div class=\"colab-df-buttons\">\n",
              "\n",
              "  <div class=\"colab-df-container\">\n",
              "    <button class=\"colab-df-convert\" onclick=\"convertToInteractive('df-ae4cb36d-f6d9-4a0c-b8a4-40e737576526')\"\n",
              "            title=\"Convert this dataframe to an interactive table.\"\n",
              "            style=\"display:none;\">\n",
              "\n",
              "  <svg xmlns=\"http://www.w3.org/2000/svg\" height=\"24px\" viewBox=\"0 -960 960 960\">\n",
              "    <path d=\"M120-120v-720h720v720H120Zm60-500h600v-160H180v160Zm220 220h160v-160H400v160Zm0 220h160v-160H400v160ZM180-400h160v-160H180v160Zm440 0h160v-160H620v160ZM180-180h160v-160H180v160Zm440 0h160v-160H620v160Z\"/>\n",
              "  </svg>\n",
              "    </button>\n",
              "\n",
              "  <style>\n",
              "    .colab-df-container {\n",
              "      display:flex;\n",
              "      gap: 12px;\n",
              "    }\n",
              "\n",
              "    .colab-df-convert {\n",
              "      background-color: #E8F0FE;\n",
              "      border: none;\n",
              "      border-radius: 50%;\n",
              "      cursor: pointer;\n",
              "      display: none;\n",
              "      fill: #1967D2;\n",
              "      height: 32px;\n",
              "      padding: 0 0 0 0;\n",
              "      width: 32px;\n",
              "    }\n",
              "\n",
              "    .colab-df-convert:hover {\n",
              "      background-color: #E2EBFA;\n",
              "      box-shadow: 0px 1px 2px rgba(60, 64, 67, 0.3), 0px 1px 3px 1px rgba(60, 64, 67, 0.15);\n",
              "      fill: #174EA6;\n",
              "    }\n",
              "\n",
              "    .colab-df-buttons div {\n",
              "      margin-bottom: 4px;\n",
              "    }\n",
              "\n",
              "    [theme=dark] .colab-df-convert {\n",
              "      background-color: #3B4455;\n",
              "      fill: #D2E3FC;\n",
              "    }\n",
              "\n",
              "    [theme=dark] .colab-df-convert:hover {\n",
              "      background-color: #434B5C;\n",
              "      box-shadow: 0px 1px 3px 1px rgba(0, 0, 0, 0.15);\n",
              "      filter: drop-shadow(0px 1px 2px rgba(0, 0, 0, 0.3));\n",
              "      fill: #FFFFFF;\n",
              "    }\n",
              "  </style>\n",
              "\n",
              "    <script>\n",
              "      const buttonEl =\n",
              "        document.querySelector('#df-ae4cb36d-f6d9-4a0c-b8a4-40e737576526 button.colab-df-convert');\n",
              "      buttonEl.style.display =\n",
              "        google.colab.kernel.accessAllowed ? 'block' : 'none';\n",
              "\n",
              "      async function convertToInteractive(key) {\n",
              "        const element = document.querySelector('#df-ae4cb36d-f6d9-4a0c-b8a4-40e737576526');\n",
              "        const dataTable =\n",
              "          await google.colab.kernel.invokeFunction('convertToInteractive',\n",
              "                                                    [key], {});\n",
              "        if (!dataTable) return;\n",
              "\n",
              "        const docLinkHtml = 'Like what you see? Visit the ' +\n",
              "          '<a target=\"_blank\" href=https://colab.research.google.com/notebooks/data_table.ipynb>data table notebook</a>'\n",
              "          + ' to learn more about interactive tables.';\n",
              "        element.innerHTML = '';\n",
              "        dataTable['output_type'] = 'display_data';\n",
              "        await google.colab.output.renderOutput(dataTable, element);\n",
              "        const docLink = document.createElement('div');\n",
              "        docLink.innerHTML = docLinkHtml;\n",
              "        element.appendChild(docLink);\n",
              "      }\n",
              "    </script>\n",
              "  </div>\n",
              "\n",
              "\n",
              "<div id=\"df-3f0c67fc-282b-48a4-99fb-e408e6bfe567\">\n",
              "  <button class=\"colab-df-quickchart\" onclick=\"quickchart('df-3f0c67fc-282b-48a4-99fb-e408e6bfe567')\"\n",
              "            title=\"Suggest charts\"\n",
              "            style=\"display:none;\">\n",
              "\n",
              "<svg xmlns=\"http://www.w3.org/2000/svg\" height=\"24px\"viewBox=\"0 0 24 24\"\n",
              "     width=\"24px\">\n",
              "    <g>\n",
              "        <path d=\"M19 3H5c-1.1 0-2 .9-2 2v14c0 1.1.9 2 2 2h14c1.1 0 2-.9 2-2V5c0-1.1-.9-2-2-2zM9 17H7v-7h2v7zm4 0h-2V7h2v10zm4 0h-2v-4h2v4z\"/>\n",
              "    </g>\n",
              "</svg>\n",
              "  </button>\n",
              "\n",
              "<style>\n",
              "  .colab-df-quickchart {\n",
              "      --bg-color: #E8F0FE;\n",
              "      --fill-color: #1967D2;\n",
              "      --hover-bg-color: #E2EBFA;\n",
              "      --hover-fill-color: #174EA6;\n",
              "      --disabled-fill-color: #AAA;\n",
              "      --disabled-bg-color: #DDD;\n",
              "  }\n",
              "\n",
              "  [theme=dark] .colab-df-quickchart {\n",
              "      --bg-color: #3B4455;\n",
              "      --fill-color: #D2E3FC;\n",
              "      --hover-bg-color: #434B5C;\n",
              "      --hover-fill-color: #FFFFFF;\n",
              "      --disabled-bg-color: #3B4455;\n",
              "      --disabled-fill-color: #666;\n",
              "  }\n",
              "\n",
              "  .colab-df-quickchart {\n",
              "    background-color: var(--bg-color);\n",
              "    border: none;\n",
              "    border-radius: 50%;\n",
              "    cursor: pointer;\n",
              "    display: none;\n",
              "    fill: var(--fill-color);\n",
              "    height: 32px;\n",
              "    padding: 0;\n",
              "    width: 32px;\n",
              "  }\n",
              "\n",
              "  .colab-df-quickchart:hover {\n",
              "    background-color: var(--hover-bg-color);\n",
              "    box-shadow: 0 1px 2px rgba(60, 64, 67, 0.3), 0 1px 3px 1px rgba(60, 64, 67, 0.15);\n",
              "    fill: var(--button-hover-fill-color);\n",
              "  }\n",
              "\n",
              "  .colab-df-quickchart-complete:disabled,\n",
              "  .colab-df-quickchart-complete:disabled:hover {\n",
              "    background-color: var(--disabled-bg-color);\n",
              "    fill: var(--disabled-fill-color);\n",
              "    box-shadow: none;\n",
              "  }\n",
              "\n",
              "  .colab-df-spinner {\n",
              "    border: 2px solid var(--fill-color);\n",
              "    border-color: transparent;\n",
              "    border-bottom-color: var(--fill-color);\n",
              "    animation:\n",
              "      spin 1s steps(1) infinite;\n",
              "  }\n",
              "\n",
              "  @keyframes spin {\n",
              "    0% {\n",
              "      border-color: transparent;\n",
              "      border-bottom-color: var(--fill-color);\n",
              "      border-left-color: var(--fill-color);\n",
              "    }\n",
              "    20% {\n",
              "      border-color: transparent;\n",
              "      border-left-color: var(--fill-color);\n",
              "      border-top-color: var(--fill-color);\n",
              "    }\n",
              "    30% {\n",
              "      border-color: transparent;\n",
              "      border-left-color: var(--fill-color);\n",
              "      border-top-color: var(--fill-color);\n",
              "      border-right-color: var(--fill-color);\n",
              "    }\n",
              "    40% {\n",
              "      border-color: transparent;\n",
              "      border-right-color: var(--fill-color);\n",
              "      border-top-color: var(--fill-color);\n",
              "    }\n",
              "    60% {\n",
              "      border-color: transparent;\n",
              "      border-right-color: var(--fill-color);\n",
              "    }\n",
              "    80% {\n",
              "      border-color: transparent;\n",
              "      border-right-color: var(--fill-color);\n",
              "      border-bottom-color: var(--fill-color);\n",
              "    }\n",
              "    90% {\n",
              "      border-color: transparent;\n",
              "      border-bottom-color: var(--fill-color);\n",
              "    }\n",
              "  }\n",
              "</style>\n",
              "\n",
              "  <script>\n",
              "    async function quickchart(key) {\n",
              "      const quickchartButtonEl =\n",
              "        document.querySelector('#' + key + ' button');\n",
              "      quickchartButtonEl.disabled = true;  // To prevent multiple clicks.\n",
              "      quickchartButtonEl.classList.add('colab-df-spinner');\n",
              "      try {\n",
              "        const charts = await google.colab.kernel.invokeFunction(\n",
              "            'suggestCharts', [key], {});\n",
              "      } catch (error) {\n",
              "        console.error('Error during call to suggestCharts:', error);\n",
              "      }\n",
              "      quickchartButtonEl.classList.remove('colab-df-spinner');\n",
              "      quickchartButtonEl.classList.add('colab-df-quickchart-complete');\n",
              "    }\n",
              "    (() => {\n",
              "      let quickchartButtonEl =\n",
              "        document.querySelector('#df-3f0c67fc-282b-48a4-99fb-e408e6bfe567 button');\n",
              "      quickchartButtonEl.style.display =\n",
              "        google.colab.kernel.accessAllowed ? 'block' : 'none';\n",
              "    })();\n",
              "  </script>\n",
              "</div>\n",
              "\n",
              "    </div>\n",
              "  </div>\n"
            ]
          },
          "metadata": {},
          "execution_count": 78
        }
      ]
    },
    {
      "cell_type": "code",
      "source": [],
      "metadata": {
        "id": "PilzEfYaF7z9"
      },
      "execution_count": null,
      "outputs": []
    },
    {
      "cell_type": "code",
      "source": [
        "not_kelp_files = os.listdir('/content/drive/MyDrive/not_kelp_files')"
      ],
      "metadata": {
        "id": "178ijVo_rXry"
      },
      "execution_count": 79,
      "outputs": []
    },
    {
      "cell_type": "code",
      "source": [
        "\n",
        "for file in not_kelp_files[0:1]:   ### just one file\n",
        "   with rasterio.open('/content/drive/MyDrive/not_kelp_files/' + file) as src:\n",
        "\n",
        "      swir=src.read(1)\n",
        "      nir=src.read(2)\n",
        "      red=src.read(3)\n",
        "      green=src.read(4)\n",
        "\n",
        "      ndvi = (nir - red) / (nir + red)\n",
        "      ndwi = (green - nir) / (green + nir)\n",
        "      mndwi = (green - swir) / (green + swir)\n",
        "\n"
      ],
      "metadata": {
        "colab": {
          "base_uri": "https://localhost:8080/"
        },
        "id": "vR_uBHRzr59a",
        "outputId": "4ff713cc-1bb1-42e0-abc8-5c6923db9801"
      },
      "execution_count": 80,
      "outputs": [
        {
          "output_type": "stream",
          "name": "stderr",
          "text": [
            "/usr/local/lib/python3.10/dist-packages/rasterio/__init__.py:304: NotGeoreferencedWarning: Dataset has no geotransform, gcps, or rpcs. The identity matrix will be returned.\n",
            "  dataset = DatasetReader(path, driver=driver, sharing=sharing, **kwargs)\n"
          ]
        }
      ]
    },
    {
      "cell_type": "code",
      "source": [
        "swir = swir.flatten()\n",
        "nir = nir.flatten()\n",
        "red = red.flatten()\n",
        "green = green.flatten()\n",
        "ndvi = ndvi.flatten()\n",
        "ndwi = ndwi.flatten()\n",
        "mndwi = mndwi.flatten()"
      ],
      "metadata": {
        "id": "g_PGuLh1Gjm4"
      },
      "execution_count": 81,
      "outputs": []
    },
    {
      "cell_type": "code",
      "source": [
        "df_not = pd.DataFrame()\n",
        "df_not['swir'] = swir\n",
        "df_not['nir'] = nir\n",
        "df_not['red'] = red\n",
        "df_not['green'] = green\n",
        "df_not['ndvi'] = ndvi\n",
        "df_not['ndwi'] = ndwi\n",
        "df_not['mndwi'] = mndwi"
      ],
      "metadata": {
        "id": "QkS8z24AGm36"
      },
      "execution_count": 82,
      "outputs": []
    },
    {
      "cell_type": "code",
      "source": [
        "y = np.zeros(122500)\n",
        "df_not['y'] = y"
      ],
      "metadata": {
        "id": "jc6XJY678l_1"
      },
      "execution_count": 83,
      "outputs": []
    },
    {
      "cell_type": "code",
      "source": [
        "y=np.ones(122500)\n",
        "df_kelp['y'] = y"
      ],
      "metadata": {
        "id": "-QoSLRqg8x7_"
      },
      "execution_count": 84,
      "outputs": []
    },
    {
      "cell_type": "code",
      "source": [
        "df_total = pd.concat([df_kelp, df_not])"
      ],
      "metadata": {
        "id": "Vpj8g4Xk823n"
      },
      "execution_count": 92,
      "outputs": []
    },
    {
      "cell_type": "code",
      "source": [
        "122500 + 122500"
      ],
      "metadata": {
        "colab": {
          "base_uri": "https://localhost:8080/"
        },
        "id": "vvQ1v7EUHOwm",
        "outputId": "fa926817-69a9-4642-89db-9672a09fec10"
      },
      "execution_count": 89,
      "outputs": [
        {
          "output_type": "execute_result",
          "data": {
            "text/plain": [
              "245000"
            ]
          },
          "metadata": {},
          "execution_count": 89
        }
      ]
    },
    {
      "cell_type": "code",
      "source": [
        "df_total.count()"
      ],
      "metadata": {
        "colab": {
          "base_uri": "https://localhost:8080/"
        },
        "id": "fIhllseu87_O",
        "outputId": "d8baf521-bfba-438c-848c-8b81934743aa"
      },
      "execution_count": 93,
      "outputs": [
        {
          "output_type": "execute_result",
          "data": {
            "text/plain": [
              "swir     245000\n",
              "nir      245000\n",
              "red      245000\n",
              "green    245000\n",
              "ndvi     245000\n",
              "ndwi     245000\n",
              "mndwi    245000\n",
              "y        245000\n",
              "dtype: int64"
            ]
          },
          "metadata": {},
          "execution_count": 93
        }
      ]
    },
    {
      "cell_type": "code",
      "source": [
        "df_total['ndvi']"
      ],
      "metadata": {
        "colab": {
          "base_uri": "https://localhost:8080/"
        },
        "id": "DgXIGFKLHoaI",
        "outputId": "dd59621d-a722-4061-b5eb-e71a876e2a97"
      },
      "execution_count": 94,
      "outputs": [
        {
          "output_type": "execute_result",
          "data": {
            "text/plain": [
              "0        -0.012780\n",
              "1        -0.012780\n",
              "2         0.006728\n",
              "3         0.006728\n",
              "4         0.006728\n",
              "            ...   \n",
              "122495    0.004808\n",
              "122496    0.016217\n",
              "122497    0.030592\n",
              "122498    0.014956\n",
              "122499   -0.002142\n",
              "Name: ndvi, Length: 245000, dtype: float64"
            ]
          },
          "metadata": {},
          "execution_count": 94
        }
      ]
    },
    {
      "cell_type": "code",
      "source": [
        "df_total['y']"
      ],
      "metadata": {
        "colab": {
          "base_uri": "https://localhost:8080/"
        },
        "id": "qj-Q_e0eHr3W",
        "outputId": "f9abd2ab-06a0-4cd1-f3b6-888ec345ee0d"
      },
      "execution_count": 95,
      "outputs": [
        {
          "output_type": "execute_result",
          "data": {
            "text/plain": [
              "0         1.0\n",
              "1         1.0\n",
              "2         1.0\n",
              "3         1.0\n",
              "4         1.0\n",
              "         ... \n",
              "122495    0.0\n",
              "122496    0.0\n",
              "122497    0.0\n",
              "122498    0.0\n",
              "122499    0.0\n",
              "Name: y, Length: 245000, dtype: float64"
            ]
          },
          "metadata": {},
          "execution_count": 95
        }
      ]
    },
    {
      "source": [
        "# Import necessary libraries\n",
        "from sklearn.feature_extraction.text import CountVectorizer\n",
        "from sklearn.model_selection import train_test_split\n",
        "from sklearn.naive_bayes import MultinomialNB\n",
        "from sklearn.metrics import accuracy_score, classification_report\n",
        "from sklearn.preprocessing import MinMaxScaler\n",
        "\n",
        "# Sample data - you should replace this with your own dataset\n",
        "# X represents the input features (text), y represents the labels\n",
        "#X = df_both[['swir'] + ['nir'] + ['red'] + ['green'] + ['ndvi'] + ['ndwi'] + ['mndwi']]\n",
        "\n",
        "X = df_total[['swir'] + ['nir'] + ['red'] + ['green'] + ['ndvi'] + ['ndwi'] + ['mndwi']]\n",
        "y = df_total['y']\n",
        "# Split the data into training and testing sets\n",
        "X_train, X_test, y_train, y_test = train_test_split(X, y, test_size=0.2, random_state=42)\n",
        "\n",
        "# Scale the data\n",
        "scaler = MinMaxScaler()\n",
        "X_train = scaler.fit_transform(X_train)\n",
        "X_test = scaler.transform(X_test)\n",
        "\n",
        "# Initialize and train the Naive Bayes classifier\n",
        "nb_classifier = MultinomialNB()\n",
        "nb_classifier.fit(X_train, y_train)\n",
        "\n",
        "# Make predictions on the test set\n",
        "y_pred = nb_classifier.predict(X_test)\n",
        "\n",
        "# Evaluate the performance of the classifier\n",
        "accuracy = accuracy_score(y_test, y_pred)\n",
        "print(f\"Accuracy: {accuracy:.2f}\")\n",
        "\n",
        "# Display classification report\n",
        "print(\"Classification Report:\\n\", classification_report(y_test, y_pred))"
      ],
      "cell_type": "code",
      "metadata": {
        "colab": {
          "base_uri": "https://localhost:8080/"
        },
        "id": "9qxdVsAgJit-",
        "outputId": "a7a375fd-b7b7-41db-8523-1e31f79074b4"
      },
      "execution_count": 107,
      "outputs": [
        {
          "output_type": "stream",
          "name": "stdout",
          "text": [
            "Accuracy: 0.59\n",
            "Classification Report:\n",
            "               precision    recall  f1-score   support\n",
            "\n",
            "         0.0       0.56      0.90      0.69     24665\n",
            "         1.0       0.74      0.28      0.41     24335\n",
            "\n",
            "    accuracy                           0.59     49000\n",
            "   macro avg       0.65      0.59      0.55     49000\n",
            "weighted avg       0.65      0.59      0.55     49000\n",
            "\n"
          ]
        }
      ]
    },
    {
      "cell_type": "code",
      "source": [],
      "metadata": {
        "id": "_a8lHY9hJoQ_"
      },
      "execution_count": null,
      "outputs": []
    }
  ]
}