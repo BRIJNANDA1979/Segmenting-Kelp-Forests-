{
  "cells": [
    {
      "cell_type": "markdown",
      "metadata": {
        "id": "view-in-github",
        "colab_type": "text"
      },
      "source": [
        "<a href=\"https://colab.research.google.com/github/BRIJNANDA1979/Segmenting-Kelp-Forests-/blob/main/Version_4_with_QuantileTRANDFORM_LOGISTIC_MULTIVARIARE_REGRESSION_FOR_kELP.ipynb\" target=\"_parent\"><img src=\"https://colab.research.google.com/assets/colab-badge.svg\" alt=\"Open In Colab\"/></a>"
      ]
    },
    {
      "cell_type": "code",
      "execution_count": null,
      "metadata": {
        "id": "eYUa52wMytbL"
      },
      "outputs": [],
      "source": [
        "###########       https://statinfer.com/204-2-3-multiple-logistic-regression/"
      ]
    },
    {
      "cell_type": "code",
      "execution_count": 1,
      "metadata": {
        "id": "vt5h6s3Bl6wn"
      },
      "outputs": [],
      "source": [
        "import pandas as pd\n",
        "import numpy as np\n",
        "import os\n"
      ]
    },
    {
      "cell_type": "code",
      "execution_count": 2,
      "metadata": {
        "colab": {
          "base_uri": "https://localhost:8080/"
        },
        "id": "YMsl0ZsRpbwJ",
        "outputId": "d34350f0-db1f-4fff-9df3-fd26c572caf9"
      },
      "outputs": [
        {
          "output_type": "stream",
          "name": "stdout",
          "text": [
            "Collecting earthpy\n",
            "  Downloading earthpy-0.9.4-py3-none-any.whl (1.4 MB)\n",
            "\u001b[2K     \u001b[90m━━━━━━━━━━━━━━━━━━━━━━━━━━━━━━━━━━━━━━━━\u001b[0m \u001b[32m1.4/1.4 MB\u001b[0m \u001b[31m6.4 MB/s\u001b[0m eta \u001b[36m0:00:00\u001b[0m\n",
            "\u001b[?25hRequirement already satisfied: geopandas in /usr/local/lib/python3.10/dist-packages (from earthpy) (0.13.2)\n",
            "Requirement already satisfied: matplotlib>=2.0.0 in /usr/local/lib/python3.10/dist-packages (from earthpy) (3.7.1)\n",
            "Requirement already satisfied: numpy>=1.14.0 in /usr/local/lib/python3.10/dist-packages (from earthpy) (1.23.5)\n",
            "Collecting rasterio (from earthpy)\n",
            "  Downloading rasterio-1.3.9-cp310-cp310-manylinux2014_x86_64.whl (20.6 MB)\n",
            "\u001b[2K     \u001b[90m━━━━━━━━━━━━━━━━━━━━━━━━━━━━━━━━━━━━━━━━\u001b[0m \u001b[32m20.6/20.6 MB\u001b[0m \u001b[31m33.7 MB/s\u001b[0m eta \u001b[36m0:00:00\u001b[0m\n",
            "\u001b[?25hRequirement already satisfied: scikit-image in /usr/local/lib/python3.10/dist-packages (from earthpy) (0.19.3)\n",
            "Requirement already satisfied: requests in /usr/local/lib/python3.10/dist-packages (from earthpy) (2.31.0)\n",
            "Requirement already satisfied: contourpy>=1.0.1 in /usr/local/lib/python3.10/dist-packages (from matplotlib>=2.0.0->earthpy) (1.2.0)\n",
            "Requirement already satisfied: cycler>=0.10 in /usr/local/lib/python3.10/dist-packages (from matplotlib>=2.0.0->earthpy) (0.12.1)\n",
            "Requirement already satisfied: fonttools>=4.22.0 in /usr/local/lib/python3.10/dist-packages (from matplotlib>=2.0.0->earthpy) (4.47.2)\n",
            "Requirement already satisfied: kiwisolver>=1.0.1 in /usr/local/lib/python3.10/dist-packages (from matplotlib>=2.0.0->earthpy) (1.4.5)\n",
            "Requirement already satisfied: packaging>=20.0 in /usr/local/lib/python3.10/dist-packages (from matplotlib>=2.0.0->earthpy) (23.2)\n",
            "Requirement already satisfied: pillow>=6.2.0 in /usr/local/lib/python3.10/dist-packages (from matplotlib>=2.0.0->earthpy) (9.4.0)\n",
            "Requirement already satisfied: pyparsing>=2.3.1 in /usr/local/lib/python3.10/dist-packages (from matplotlib>=2.0.0->earthpy) (3.1.1)\n",
            "Requirement already satisfied: python-dateutil>=2.7 in /usr/local/lib/python3.10/dist-packages (from matplotlib>=2.0.0->earthpy) (2.8.2)\n",
            "Requirement already satisfied: fiona>=1.8.19 in /usr/local/lib/python3.10/dist-packages (from geopandas->earthpy) (1.9.5)\n",
            "Requirement already satisfied: pandas>=1.1.0 in /usr/local/lib/python3.10/dist-packages (from geopandas->earthpy) (1.5.3)\n",
            "Requirement already satisfied: pyproj>=3.0.1 in /usr/local/lib/python3.10/dist-packages (from geopandas->earthpy) (3.6.1)\n",
            "Requirement already satisfied: shapely>=1.7.1 in /usr/local/lib/python3.10/dist-packages (from geopandas->earthpy) (2.0.2)\n",
            "Collecting affine (from rasterio->earthpy)\n",
            "  Downloading affine-2.4.0-py3-none-any.whl (15 kB)\n",
            "Requirement already satisfied: attrs in /usr/local/lib/python3.10/dist-packages (from rasterio->earthpy) (23.2.0)\n",
            "Requirement already satisfied: certifi in /usr/local/lib/python3.10/dist-packages (from rasterio->earthpy) (2023.11.17)\n",
            "Requirement already satisfied: click>=4.0 in /usr/local/lib/python3.10/dist-packages (from rasterio->earthpy) (8.1.7)\n",
            "Requirement already satisfied: cligj>=0.5 in /usr/local/lib/python3.10/dist-packages (from rasterio->earthpy) (0.7.2)\n",
            "Collecting snuggs>=1.4.1 (from rasterio->earthpy)\n",
            "  Downloading snuggs-1.4.7-py3-none-any.whl (5.4 kB)\n",
            "Requirement already satisfied: click-plugins in /usr/local/lib/python3.10/dist-packages (from rasterio->earthpy) (1.1.1)\n",
            "Requirement already satisfied: setuptools in /usr/local/lib/python3.10/dist-packages (from rasterio->earthpy) (67.7.2)\n",
            "Requirement already satisfied: charset-normalizer<4,>=2 in /usr/local/lib/python3.10/dist-packages (from requests->earthpy) (3.3.2)\n",
            "Requirement already satisfied: idna<4,>=2.5 in /usr/local/lib/python3.10/dist-packages (from requests->earthpy) (3.6)\n",
            "Requirement already satisfied: urllib3<3,>=1.21.1 in /usr/local/lib/python3.10/dist-packages (from requests->earthpy) (2.0.7)\n",
            "Requirement already satisfied: scipy>=1.4.1 in /usr/local/lib/python3.10/dist-packages (from scikit-image->earthpy) (1.11.4)\n",
            "Requirement already satisfied: networkx>=2.2 in /usr/local/lib/python3.10/dist-packages (from scikit-image->earthpy) (3.2.1)\n",
            "Requirement already satisfied: imageio>=2.4.1 in /usr/local/lib/python3.10/dist-packages (from scikit-image->earthpy) (2.31.6)\n",
            "Requirement already satisfied: tifffile>=2019.7.26 in /usr/local/lib/python3.10/dist-packages (from scikit-image->earthpy) (2023.12.9)\n",
            "Requirement already satisfied: PyWavelets>=1.1.1 in /usr/local/lib/python3.10/dist-packages (from scikit-image->earthpy) (1.5.0)\n",
            "Requirement already satisfied: six in /usr/local/lib/python3.10/dist-packages (from fiona>=1.8.19->geopandas->earthpy) (1.16.0)\n",
            "Requirement already satisfied: pytz>=2020.1 in /usr/local/lib/python3.10/dist-packages (from pandas>=1.1.0->geopandas->earthpy) (2023.3.post1)\n",
            "Installing collected packages: snuggs, affine, rasterio, earthpy\n",
            "Successfully installed affine-2.4.0 earthpy-0.9.4 rasterio-1.3.9 snuggs-1.4.7\n"
          ]
        }
      ],
      "source": [
        "pip install earthpy"
      ]
    },
    {
      "cell_type": "code",
      "execution_count": 3,
      "metadata": {
        "colab": {
          "base_uri": "https://localhost:8080/"
        },
        "id": "6XAcSWHib7iI",
        "outputId": "a268ac2f-6fe3-441d-d0dc-0dd42e5a8de7"
      },
      "outputs": [
        {
          "output_type": "stream",
          "name": "stderr",
          "text": [
            "/usr/local/lib/python3.10/dist-packages/rasterio/__init__.py:304: NotGeoreferencedWarning: Dataset has no geotransform, gcps, or rpcs. The identity matrix will be returned.\n",
            "  dataset = DatasetReader(path, driver=driver, sharing=sharing, **kwargs)\n"
          ]
        }
      ],
      "source": [
        "import earthpy.spatial as es\n",
        "import rasterio\n",
        "from rasterio.plot import show\n",
        "import os\n",
        "kelp_files = os.listdir('/content/drive/MyDrive/kelp_files_only')\n",
        "\n",
        "train_satellite_data_with_kelp_data_list_swir =[]\n",
        "train_satellite_data_with_kelp_data_list_nir =[]\n",
        "train_satellite_data_with_kelp_data_list_red =[]\n",
        "train_satellite_data_with_kelp_data_list_green =[]\n",
        "train_satellite_data_with_kelp_data_list_blue =[]\n",
        "train_satellite_data_with_kelp_data_list_index=[]\n",
        "train_satellite_data_with_kelp_data_list_ndvi=[]\n",
        "train_satellite_data_with_kelp_data_list_mndwi=[]\n",
        "train_satellite_kelp_file_list =[] ##### selecting 100 train satellite kelp images for trainingn with label y=1\n",
        "for file in kelp_files[0:100]:\n",
        "\n",
        "    with rasterio.open(os.path.join('/content/drive/MyDrive/kelp_files_only',file)) as src:   ################   3527 train_satellite data files with kelp.....\n",
        "      swir = src.read(1)\n",
        "      nir = src.read(2)\n",
        "      red = src.read(3)\n",
        "      green = src.read(4)\n",
        "      blue = src.read(5)\n",
        "      train_INDEX = es.normalized_diff(swir,nir)\n",
        "      train_NDVI = es.normalized_diff(green,nir)\n",
        "      train_MNDWI = es.normalized_diff(green,swir)\n",
        "\n",
        "\n",
        "      train_satellite_data_with_kelp_data_list_ndvi.append(train_NDVI)\n",
        "      train_satellite_data_with_kelp_data_list_mndwi.append(train_MNDWI)\n",
        "      train_satellite_data_with_kelp_data_list_swir.append(swir)\n",
        "      train_satellite_data_with_kelp_data_list_nir.append(nir)\n",
        "      train_satellite_data_with_kelp_data_list_red.append(red)\n",
        "      train_satellite_data_with_kelp_data_list_green.append(green)\n",
        "      train_satellite_data_with_kelp_data_list_blue.append(blue)\n",
        "      train_satellite_data_with_kelp_data_list_index.append(train_INDEX)\n",
        "\n",
        "\n",
        "      train_satellite_kelp_file_list.append(file)"
      ]
    },
    {
      "cell_type": "code",
      "execution_count": 4,
      "metadata": {
        "id": "L5wkMolhplmM"
      },
      "outputs": [],
      "source": [
        "\n",
        "binary_kelp_data =[]\n",
        "for file in kelp_files[0:100]:    ############# 1000 images to filter kelp pixels from train_satellite data\n",
        "\n",
        "    with rasterio.open(os.path.join('/content/drive/MyDrive/train_kelp',file)) as src:\n",
        "      data = src.read(1)\n",
        "      binary_kelp_data.append(data)"
      ]
    },
    {
      "cell_type": "code",
      "execution_count": 5,
      "metadata": {
        "id": "znIjvfyJp20q"
      },
      "outputs": [],
      "source": [
        "\n",
        "###### this code filters kelp pixels from kelp pixels of train_satellite kelp data....\n",
        "Kelp_only_NDVI_pixels_list = []\n",
        "Kelp_only_MNDWI_pixels_list = []\n",
        "Kelp_only_swir_pixels_list = []\n",
        "Kelp_only_nir_pixels_list = []\n",
        "Kelp_only_red_pixels_list = []\n",
        "Kelp_only_green_pixels_list = []\n",
        "Kelp_only_blue_pixels_list = []\n",
        "Kelp_only_INDEX_pixels_list =[]\n",
        "\n",
        "\n",
        "for i in range(0,len(train_satellite_data_with_kelp_data_list_ndvi)):     ##### using only NDVI pixels for kelp.....1000 files\n",
        "  A_ndvi = train_satellite_data_with_kelp_data_list_ndvi[i]\n",
        "  A_mndwi = train_satellite_data_with_kelp_data_list_mndwi[i]\n",
        "  A_swir = train_satellite_data_with_kelp_data_list_swir[i]\n",
        "  A_nir = train_satellite_data_with_kelp_data_list_nir[i]\n",
        "  A_red = train_satellite_data_with_kelp_data_list_red[i]\n",
        "  A_green = train_satellite_data_with_kelp_data_list_green[i]\n",
        "  A_blue = train_satellite_data_with_kelp_data_list_blue[i]\n",
        "  A_index = train_satellite_data_with_kelp_data_list_index[i]\n",
        "  B = binary_kelp_data[i]                                          #########  1000 files\n",
        "  for j in range(350):                                                 ### shape of each image is 350x350\n",
        "    for k in range(350):\n",
        "      if  (B[j][k] != 0 ) :\n",
        "\n",
        "          Kelp_only_NDVI_pixels_list.append(A_ndvi[j][k])\n",
        "          Kelp_only_MNDWI_pixels_list.append(A_mndwi[j][k])\n",
        "          Kelp_only_swir_pixels_list.append(A_swir[j][k])\n",
        "          Kelp_only_nir_pixels_list.append(A_nir[j][k])\n",
        "          Kelp_only_red_pixels_list.append(A_red[j][k])\n",
        "          Kelp_only_green_pixels_list.append(A_green[j][k])\n",
        "          Kelp_only_blue_pixels_list.append(A_blue[j][k])\n",
        "          Kelp_only_INDEX_pixels_list.append(A_index[j][k])\n",
        "\n"
      ]
    },
    {
      "cell_type": "code",
      "execution_count": 6,
      "metadata": {
        "id": "McH-fS0vsEO1"
      },
      "outputs": [],
      "source": [
        "############# now collect ndvi and mndwi pixels of not_kelp train_satellite data\n",
        "Not_kelp_swir_pixels_list=[]\n",
        "Not_kelp_nir_pixels_list=[]\n",
        "Not_kelp_red_pixels_list=[]\n",
        "Not_kelp_green_pixels_list=[]\n",
        "Not_kelp_blue_pixels_list=[]\n",
        "Not_kelp_NDVI_pixels_list = []\n",
        "Not_kelp_MNDWI_pixels_list=[]\n",
        "Not_kelp_INDEX_pixels_list =[]\n",
        "\n",
        "\n",
        "not_kelp_files = os.listdir('/content/drive/MyDrive/not_kelp_files')\n",
        "for file in not_kelp_files[0:50]:                                          #### 50 files not kelp data\n",
        "\n",
        "    with rasterio.open(os.path.join('/content/drive/MyDrive/not_kelp_files',file)) as src:   ################   3527 train_satellite data files with kelp.....\n",
        "      swir = src.read(1)\n",
        "      nir = src.read(2)\n",
        "      red = src.read(3)\n",
        "      green = src.read(4)\n",
        "      blue = src.read(5)\n",
        "      not_kelp_train_INDEX = es.normalized_diff(swir,nir)\n",
        "      not_kelp_train_NDVI = es.normalized_diff(green,nir)\n",
        "      not_kelp_train_MNDWI = es.normalized_diff(green,swir)\n",
        "      A = not_kelp_train_NDVI\n",
        "      B = not_kelp_train_MNDWI\n",
        "      C = not_kelp_train_INDEX\n",
        "      #show(C)\n",
        "      a = A.flatten()\n",
        "      b = B.flatten()\n",
        "      c = swir.flatten()\n",
        "      d = nir.flatten()\n",
        "      e = red.flatten()\n",
        "      f = green.flatten()\n",
        "      g = blue.flatten()\n",
        "      h= C.flatten()\n",
        "      for j in range(0,len(a)):\n",
        "        Not_kelp_NDVI_pixels_list.append(a[j])\n",
        "        Not_kelp_MNDWI_pixels_list.append(b[j])\n",
        "        Not_kelp_swir_pixels_list.append(c[j])\n",
        "        Not_kelp_nir_pixels_list.append(d[j])\n",
        "        Not_kelp_red_pixels_list.append(e[j])\n",
        "        Not_kelp_green_pixels_list.append(f[j])\n",
        "        Not_kelp_blue_pixels_list.append(g[j])\n",
        "        Not_kelp_INDEX_pixels_list.append(h[j])\n",
        "\n"
      ]
    },
    {
      "cell_type": "code",
      "execution_count": 7,
      "metadata": {
        "colab": {
          "base_uri": "https://localhost:8080/"
        },
        "id": "Yv6a1TRCvRzk",
        "outputId": "ae2bf116-ecb4-42f0-8ed1-1536e57183f4"
      },
      "outputs": [
        {
          "output_type": "execute_result",
          "data": {
            "text/plain": [
              "[0.004963094935097989,\n",
              " 0.027487562189054727,\n",
              " 0.027487562189054727,\n",
              " 0.004963094935097989,\n",
              " 0.04808424257802588,\n",
              " 0.004963094935097989,\n",
              " 0.004963094935097989,\n",
              " 0.027487562189054727,\n",
              " 0.027487562189054727,\n",
              " 0.004963094935097989]"
            ]
          },
          "metadata": {},
          "execution_count": 7
        }
      ],
      "source": [
        "Not_kelp_NDVI_pixels_list[0:10]"
      ]
    },
    {
      "cell_type": "code",
      "execution_count": 8,
      "metadata": {
        "colab": {
          "base_uri": "https://localhost:8080/"
        },
        "id": "OCq9Yjs5vkPf",
        "outputId": "e0c0154c-87e4-436c-fbbc-e8082fae18b6"
      },
      "outputs": [
        {
          "output_type": "execute_result",
          "data": {
            "text/plain": [
              "[-0.050490965080471795,\n",
              " -0.07689558639585443,\n",
              " -0.029745294781214748,\n",
              " -0.04521719808910121,\n",
              " -0.0966952264381885,\n",
              " -0.0703680527902611,\n",
              " -0.050490965080471795,\n",
              " -0.050490965080471795,\n",
              " -0.050490965080471795,\n",
              " -0.0703680527902611]"
            ]
          },
          "metadata": {},
          "execution_count": 8
        }
      ],
      "source": [
        "Kelp_only_NDVI_pixels_list[0:10]"
      ]
    },
    {
      "cell_type": "code",
      "execution_count": 9,
      "metadata": {
        "colab": {
          "base_uri": "https://localhost:8080/"
        },
        "id": "b74dR8OhvoFn",
        "outputId": "6f61ce01-b3de-4ddd-9e4e-86cff5b75338"
      },
      "outputs": [
        {
          "output_type": "execute_result",
          "data": {
            "text/plain": [
              "6125000"
            ]
          },
          "metadata": {},
          "execution_count": 9
        }
      ],
      "source": [
        "len(Not_kelp_NDVI_pixels_list)"
      ]
    },
    {
      "cell_type": "code",
      "execution_count": 10,
      "metadata": {
        "colab": {
          "base_uri": "https://localhost:8080/"
        },
        "id": "95JW0emcv5WC",
        "outputId": "e4bcf471-c5e3-4d6b-de79-ae8edb25abb7"
      },
      "outputs": [
        {
          "output_type": "execute_result",
          "data": {
            "text/plain": [
              "127120"
            ]
          },
          "metadata": {},
          "execution_count": 10
        }
      ],
      "source": [
        "len(Kelp_only_NDVI_pixels_list)"
      ]
    },
    {
      "cell_type": "code",
      "execution_count": 11,
      "metadata": {
        "id": "2gXqidLiv8t3"
      },
      "outputs": [],
      "source": [
        "NDVI_pixels = Kelp_only_NDVI_pixels_list[0:127100] + Not_kelp_NDVI_pixels_list[0:127100]\n",
        "MNDWI_pixels = Kelp_only_MNDWI_pixels_list[0:127100] + Not_kelp_MNDWI_pixels_list[0:127100]\n",
        "swir_pixels = Kelp_only_swir_pixels_list[0:127100] + Not_kelp_swir_pixels_list[0:127100]\n",
        "nir_pixels = Kelp_only_nir_pixels_list[0:127100] + Not_kelp_nir_pixels_list[0:127100]\n",
        "red_pixels = Kelp_only_red_pixels_list[0:127100] + Not_kelp_red_pixels_list[0:127100]\n",
        "green_pixels = Kelp_only_green_pixels_list[0:127100] + Not_kelp_green_pixels_list[0:127100]\n",
        "blue_pixels = Kelp_only_blue_pixels_list[0:127100] + Not_kelp_blue_pixels_list[0:127100]\n",
        "INDEX_pixels =  Kelp_only_INDEX_pixels_list[0:127100] + Not_kelp_INDEX_pixels_list[0:127100]"
      ]
    },
    {
      "cell_type": "code",
      "execution_count": 12,
      "metadata": {
        "colab": {
          "base_uri": "https://localhost:8080/"
        },
        "id": "VuxH_a_dwSKt",
        "outputId": "f4b4810d-ca83-4594-e46b-cad8d898e4f2"
      },
      "outputs": [
        {
          "output_type": "execute_result",
          "data": {
            "text/plain": [
              "254200"
            ]
          },
          "metadata": {},
          "execution_count": 12
        }
      ],
      "source": [
        "len(NDVI_pixels)"
      ]
    },
    {
      "cell_type": "code",
      "execution_count": 13,
      "metadata": {
        "id": "tEW2CAGCwp54"
      },
      "outputs": [],
      "source": [
        "y=[]"
      ]
    },
    {
      "cell_type": "code",
      "execution_count": 14,
      "metadata": {
        "id": "0mHu9TkGwuDg"
      },
      "outputs": [],
      "source": [
        "for i in range(0,len(NDVI_pixels)):\n",
        "  if i < 127100:\n",
        "    y.append(1)\n",
        "  else:\n",
        "    y.append(0)"
      ]
    },
    {
      "cell_type": "code",
      "execution_count": 15,
      "metadata": {
        "id": "UTZIVOkBfU9x"
      },
      "outputs": [],
      "source": [
        "import pandas as pd"
      ]
    },
    {
      "cell_type": "code",
      "execution_count": 16,
      "metadata": {
        "id": "WtvW65ttxQ6u"
      },
      "outputs": [],
      "source": [
        "df = pd.DataFrame()\n",
        "df['NDVI'] = NDVI_pixels\n",
        "df['MNDWI'] = MNDWI_pixels\n",
        "df['swir'] = swir_pixels\n",
        "df['nir'] = nir_pixels\n",
        "df['red'] = red_pixels\n",
        "df['green'] = green_pixels\n",
        "df['blue'] = blue_pixels\n",
        "df['INDEX'] = INDEX_pixels\n"
      ]
    },
    {
      "cell_type": "code",
      "execution_count": 17,
      "metadata": {
        "id": "HxsMihrrx3v9"
      },
      "outputs": [],
      "source": [
        "df['y'] =y"
      ]
    },
    {
      "cell_type": "code",
      "execution_count": 18,
      "metadata": {
        "colab": {
          "base_uri": "https://localhost:8080/",
          "height": 320
        },
        "id": "1hinTzqsxZrB",
        "outputId": "8d5ef1bb-95dc-4b85-eb67-f6cd26bdd9f9"
      },
      "outputs": [
        {
          "output_type": "execute_result",
          "data": {
            "text/plain": [
              "                NDVI          MNDWI           swir            nir  \\\n",
              "count  254200.000000  254200.000000  254200.000000  254200.000000   \n",
              "mean       -0.010479       0.034729    7832.360814    8593.096334   \n",
              "std         0.049558       0.033594    1092.844133    1332.786750   \n",
              "min        -0.368859      -0.288589    6814.000000    7185.000000   \n",
              "25%        -0.028558       0.027413    7437.000000    7819.000000   \n",
              "50%         0.004774       0.038210    7618.000000    8331.000000   \n",
              "75%         0.027313       0.052189    7809.000000    8845.000000   \n",
              "max         0.134488       0.453731   19724.000000   23864.000000   \n",
              "\n",
              "                 red          green           blue          INDEX  \\\n",
              "count  254200.000000  254200.000000  254200.000000  254200.000000   \n",
              "mean     8108.808415    8355.736125    8493.324756      -0.045195   \n",
              "std       574.968942     584.486842     587.787206       0.041363   \n",
              "min      7147.000000    7156.000000    7184.000000      -0.359856   \n",
              "25%      7788.000000    8015.000000    8148.000000      -0.067847   \n",
              "50%      7997.000000    8260.000000    8446.000000      -0.039052   \n",
              "75%      8163.000000    8445.000000    8636.000000      -0.019083   \n",
              "max     24175.000000   24664.000000   65535.000000       0.126617   \n",
              "\n",
              "                   y  \n",
              "count  254200.000000  \n",
              "mean        0.500000  \n",
              "std         0.500001  \n",
              "min         0.000000  \n",
              "25%         0.000000  \n",
              "50%         0.500000  \n",
              "75%         1.000000  \n",
              "max         1.000000  "
            ],
            "text/html": [
              "\n",
              "  <div id=\"df-e1d637d4-b7fe-4b49-b6e2-1638b58ce8df\" class=\"colab-df-container\">\n",
              "    <div>\n",
              "<style scoped>\n",
              "    .dataframe tbody tr th:only-of-type {\n",
              "        vertical-align: middle;\n",
              "    }\n",
              "\n",
              "    .dataframe tbody tr th {\n",
              "        vertical-align: top;\n",
              "    }\n",
              "\n",
              "    .dataframe thead th {\n",
              "        text-align: right;\n",
              "    }\n",
              "</style>\n",
              "<table border=\"1\" class=\"dataframe\">\n",
              "  <thead>\n",
              "    <tr style=\"text-align: right;\">\n",
              "      <th></th>\n",
              "      <th>NDVI</th>\n",
              "      <th>MNDWI</th>\n",
              "      <th>swir</th>\n",
              "      <th>nir</th>\n",
              "      <th>red</th>\n",
              "      <th>green</th>\n",
              "      <th>blue</th>\n",
              "      <th>INDEX</th>\n",
              "      <th>y</th>\n",
              "    </tr>\n",
              "  </thead>\n",
              "  <tbody>\n",
              "    <tr>\n",
              "      <th>count</th>\n",
              "      <td>254200.000000</td>\n",
              "      <td>254200.000000</td>\n",
              "      <td>254200.000000</td>\n",
              "      <td>254200.000000</td>\n",
              "      <td>254200.000000</td>\n",
              "      <td>254200.000000</td>\n",
              "      <td>254200.000000</td>\n",
              "      <td>254200.000000</td>\n",
              "      <td>254200.000000</td>\n",
              "    </tr>\n",
              "    <tr>\n",
              "      <th>mean</th>\n",
              "      <td>-0.010479</td>\n",
              "      <td>0.034729</td>\n",
              "      <td>7832.360814</td>\n",
              "      <td>8593.096334</td>\n",
              "      <td>8108.808415</td>\n",
              "      <td>8355.736125</td>\n",
              "      <td>8493.324756</td>\n",
              "      <td>-0.045195</td>\n",
              "      <td>0.500000</td>\n",
              "    </tr>\n",
              "    <tr>\n",
              "      <th>std</th>\n",
              "      <td>0.049558</td>\n",
              "      <td>0.033594</td>\n",
              "      <td>1092.844133</td>\n",
              "      <td>1332.786750</td>\n",
              "      <td>574.968942</td>\n",
              "      <td>584.486842</td>\n",
              "      <td>587.787206</td>\n",
              "      <td>0.041363</td>\n",
              "      <td>0.500001</td>\n",
              "    </tr>\n",
              "    <tr>\n",
              "      <th>min</th>\n",
              "      <td>-0.368859</td>\n",
              "      <td>-0.288589</td>\n",
              "      <td>6814.000000</td>\n",
              "      <td>7185.000000</td>\n",
              "      <td>7147.000000</td>\n",
              "      <td>7156.000000</td>\n",
              "      <td>7184.000000</td>\n",
              "      <td>-0.359856</td>\n",
              "      <td>0.000000</td>\n",
              "    </tr>\n",
              "    <tr>\n",
              "      <th>25%</th>\n",
              "      <td>-0.028558</td>\n",
              "      <td>0.027413</td>\n",
              "      <td>7437.000000</td>\n",
              "      <td>7819.000000</td>\n",
              "      <td>7788.000000</td>\n",
              "      <td>8015.000000</td>\n",
              "      <td>8148.000000</td>\n",
              "      <td>-0.067847</td>\n",
              "      <td>0.000000</td>\n",
              "    </tr>\n",
              "    <tr>\n",
              "      <th>50%</th>\n",
              "      <td>0.004774</td>\n",
              "      <td>0.038210</td>\n",
              "      <td>7618.000000</td>\n",
              "      <td>8331.000000</td>\n",
              "      <td>7997.000000</td>\n",
              "      <td>8260.000000</td>\n",
              "      <td>8446.000000</td>\n",
              "      <td>-0.039052</td>\n",
              "      <td>0.500000</td>\n",
              "    </tr>\n",
              "    <tr>\n",
              "      <th>75%</th>\n",
              "      <td>0.027313</td>\n",
              "      <td>0.052189</td>\n",
              "      <td>7809.000000</td>\n",
              "      <td>8845.000000</td>\n",
              "      <td>8163.000000</td>\n",
              "      <td>8445.000000</td>\n",
              "      <td>8636.000000</td>\n",
              "      <td>-0.019083</td>\n",
              "      <td>1.000000</td>\n",
              "    </tr>\n",
              "    <tr>\n",
              "      <th>max</th>\n",
              "      <td>0.134488</td>\n",
              "      <td>0.453731</td>\n",
              "      <td>19724.000000</td>\n",
              "      <td>23864.000000</td>\n",
              "      <td>24175.000000</td>\n",
              "      <td>24664.000000</td>\n",
              "      <td>65535.000000</td>\n",
              "      <td>0.126617</td>\n",
              "      <td>1.000000</td>\n",
              "    </tr>\n",
              "  </tbody>\n",
              "</table>\n",
              "</div>\n",
              "    <div class=\"colab-df-buttons\">\n",
              "\n",
              "  <div class=\"colab-df-container\">\n",
              "    <button class=\"colab-df-convert\" onclick=\"convertToInteractive('df-e1d637d4-b7fe-4b49-b6e2-1638b58ce8df')\"\n",
              "            title=\"Convert this dataframe to an interactive table.\"\n",
              "            style=\"display:none;\">\n",
              "\n",
              "  <svg xmlns=\"http://www.w3.org/2000/svg\" height=\"24px\" viewBox=\"0 -960 960 960\">\n",
              "    <path d=\"M120-120v-720h720v720H120Zm60-500h600v-160H180v160Zm220 220h160v-160H400v160Zm0 220h160v-160H400v160ZM180-400h160v-160H180v160Zm440 0h160v-160H620v160ZM180-180h160v-160H180v160Zm440 0h160v-160H620v160Z\"/>\n",
              "  </svg>\n",
              "    </button>\n",
              "\n",
              "  <style>\n",
              "    .colab-df-container {\n",
              "      display:flex;\n",
              "      gap: 12px;\n",
              "    }\n",
              "\n",
              "    .colab-df-convert {\n",
              "      background-color: #E8F0FE;\n",
              "      border: none;\n",
              "      border-radius: 50%;\n",
              "      cursor: pointer;\n",
              "      display: none;\n",
              "      fill: #1967D2;\n",
              "      height: 32px;\n",
              "      padding: 0 0 0 0;\n",
              "      width: 32px;\n",
              "    }\n",
              "\n",
              "    .colab-df-convert:hover {\n",
              "      background-color: #E2EBFA;\n",
              "      box-shadow: 0px 1px 2px rgba(60, 64, 67, 0.3), 0px 1px 3px 1px rgba(60, 64, 67, 0.15);\n",
              "      fill: #174EA6;\n",
              "    }\n",
              "\n",
              "    .colab-df-buttons div {\n",
              "      margin-bottom: 4px;\n",
              "    }\n",
              "\n",
              "    [theme=dark] .colab-df-convert {\n",
              "      background-color: #3B4455;\n",
              "      fill: #D2E3FC;\n",
              "    }\n",
              "\n",
              "    [theme=dark] .colab-df-convert:hover {\n",
              "      background-color: #434B5C;\n",
              "      box-shadow: 0px 1px 3px 1px rgba(0, 0, 0, 0.15);\n",
              "      filter: drop-shadow(0px 1px 2px rgba(0, 0, 0, 0.3));\n",
              "      fill: #FFFFFF;\n",
              "    }\n",
              "  </style>\n",
              "\n",
              "    <script>\n",
              "      const buttonEl =\n",
              "        document.querySelector('#df-e1d637d4-b7fe-4b49-b6e2-1638b58ce8df button.colab-df-convert');\n",
              "      buttonEl.style.display =\n",
              "        google.colab.kernel.accessAllowed ? 'block' : 'none';\n",
              "\n",
              "      async function convertToInteractive(key) {\n",
              "        const element = document.querySelector('#df-e1d637d4-b7fe-4b49-b6e2-1638b58ce8df');\n",
              "        const dataTable =\n",
              "          await google.colab.kernel.invokeFunction('convertToInteractive',\n",
              "                                                    [key], {});\n",
              "        if (!dataTable) return;\n",
              "\n",
              "        const docLinkHtml = 'Like what you see? Visit the ' +\n",
              "          '<a target=\"_blank\" href=https://colab.research.google.com/notebooks/data_table.ipynb>data table notebook</a>'\n",
              "          + ' to learn more about interactive tables.';\n",
              "        element.innerHTML = '';\n",
              "        dataTable['output_type'] = 'display_data';\n",
              "        await google.colab.output.renderOutput(dataTable, element);\n",
              "        const docLink = document.createElement('div');\n",
              "        docLink.innerHTML = docLinkHtml;\n",
              "        element.appendChild(docLink);\n",
              "      }\n",
              "    </script>\n",
              "  </div>\n",
              "\n",
              "\n",
              "<div id=\"df-c0787008-5bd8-44a4-8b8b-2a344213a7c3\">\n",
              "  <button class=\"colab-df-quickchart\" onclick=\"quickchart('df-c0787008-5bd8-44a4-8b8b-2a344213a7c3')\"\n",
              "            title=\"Suggest charts\"\n",
              "            style=\"display:none;\">\n",
              "\n",
              "<svg xmlns=\"http://www.w3.org/2000/svg\" height=\"24px\"viewBox=\"0 0 24 24\"\n",
              "     width=\"24px\">\n",
              "    <g>\n",
              "        <path d=\"M19 3H5c-1.1 0-2 .9-2 2v14c0 1.1.9 2 2 2h14c1.1 0 2-.9 2-2V5c0-1.1-.9-2-2-2zM9 17H7v-7h2v7zm4 0h-2V7h2v10zm4 0h-2v-4h2v4z\"/>\n",
              "    </g>\n",
              "</svg>\n",
              "  </button>\n",
              "\n",
              "<style>\n",
              "  .colab-df-quickchart {\n",
              "      --bg-color: #E8F0FE;\n",
              "      --fill-color: #1967D2;\n",
              "      --hover-bg-color: #E2EBFA;\n",
              "      --hover-fill-color: #174EA6;\n",
              "      --disabled-fill-color: #AAA;\n",
              "      --disabled-bg-color: #DDD;\n",
              "  }\n",
              "\n",
              "  [theme=dark] .colab-df-quickchart {\n",
              "      --bg-color: #3B4455;\n",
              "      --fill-color: #D2E3FC;\n",
              "      --hover-bg-color: #434B5C;\n",
              "      --hover-fill-color: #FFFFFF;\n",
              "      --disabled-bg-color: #3B4455;\n",
              "      --disabled-fill-color: #666;\n",
              "  }\n",
              "\n",
              "  .colab-df-quickchart {\n",
              "    background-color: var(--bg-color);\n",
              "    border: none;\n",
              "    border-radius: 50%;\n",
              "    cursor: pointer;\n",
              "    display: none;\n",
              "    fill: var(--fill-color);\n",
              "    height: 32px;\n",
              "    padding: 0;\n",
              "    width: 32px;\n",
              "  }\n",
              "\n",
              "  .colab-df-quickchart:hover {\n",
              "    background-color: var(--hover-bg-color);\n",
              "    box-shadow: 0 1px 2px rgba(60, 64, 67, 0.3), 0 1px 3px 1px rgba(60, 64, 67, 0.15);\n",
              "    fill: var(--button-hover-fill-color);\n",
              "  }\n",
              "\n",
              "  .colab-df-quickchart-complete:disabled,\n",
              "  .colab-df-quickchart-complete:disabled:hover {\n",
              "    background-color: var(--disabled-bg-color);\n",
              "    fill: var(--disabled-fill-color);\n",
              "    box-shadow: none;\n",
              "  }\n",
              "\n",
              "  .colab-df-spinner {\n",
              "    border: 2px solid var(--fill-color);\n",
              "    border-color: transparent;\n",
              "    border-bottom-color: var(--fill-color);\n",
              "    animation:\n",
              "      spin 1s steps(1) infinite;\n",
              "  }\n",
              "\n",
              "  @keyframes spin {\n",
              "    0% {\n",
              "      border-color: transparent;\n",
              "      border-bottom-color: var(--fill-color);\n",
              "      border-left-color: var(--fill-color);\n",
              "    }\n",
              "    20% {\n",
              "      border-color: transparent;\n",
              "      border-left-color: var(--fill-color);\n",
              "      border-top-color: var(--fill-color);\n",
              "    }\n",
              "    30% {\n",
              "      border-color: transparent;\n",
              "      border-left-color: var(--fill-color);\n",
              "      border-top-color: var(--fill-color);\n",
              "      border-right-color: var(--fill-color);\n",
              "    }\n",
              "    40% {\n",
              "      border-color: transparent;\n",
              "      border-right-color: var(--fill-color);\n",
              "      border-top-color: var(--fill-color);\n",
              "    }\n",
              "    60% {\n",
              "      border-color: transparent;\n",
              "      border-right-color: var(--fill-color);\n",
              "    }\n",
              "    80% {\n",
              "      border-color: transparent;\n",
              "      border-right-color: var(--fill-color);\n",
              "      border-bottom-color: var(--fill-color);\n",
              "    }\n",
              "    90% {\n",
              "      border-color: transparent;\n",
              "      border-bottom-color: var(--fill-color);\n",
              "    }\n",
              "  }\n",
              "</style>\n",
              "\n",
              "  <script>\n",
              "    async function quickchart(key) {\n",
              "      const quickchartButtonEl =\n",
              "        document.querySelector('#' + key + ' button');\n",
              "      quickchartButtonEl.disabled = true;  // To prevent multiple clicks.\n",
              "      quickchartButtonEl.classList.add('colab-df-spinner');\n",
              "      try {\n",
              "        const charts = await google.colab.kernel.invokeFunction(\n",
              "            'suggestCharts', [key], {});\n",
              "      } catch (error) {\n",
              "        console.error('Error during call to suggestCharts:', error);\n",
              "      }\n",
              "      quickchartButtonEl.classList.remove('colab-df-spinner');\n",
              "      quickchartButtonEl.classList.add('colab-df-quickchart-complete');\n",
              "    }\n",
              "    (() => {\n",
              "      let quickchartButtonEl =\n",
              "        document.querySelector('#df-c0787008-5bd8-44a4-8b8b-2a344213a7c3 button');\n",
              "      quickchartButtonEl.style.display =\n",
              "        google.colab.kernel.accessAllowed ? 'block' : 'none';\n",
              "    })();\n",
              "  </script>\n",
              "</div>\n",
              "\n",
              "    </div>\n",
              "  </div>\n"
            ]
          },
          "metadata": {},
          "execution_count": 18
        }
      ],
      "source": [
        "df.describe()"
      ]
    },
    {
      "cell_type": "code",
      "execution_count": null,
      "metadata": {
        "id": "__m2ByB8zruU"
      },
      "outputs": [],
      "source": [
        "#################  load test data to predict pixels as 0 or 1 for kelp classification"
      ]
    },
    {
      "cell_type": "code",
      "execution_count": 85,
      "metadata": {
        "id": "fbn6pwX-zy3t"
      },
      "outputs": [],
      "source": [
        "import earthpy.spatial as es\n",
        "import rasterio\n",
        "from rasterio.plot import show\n",
        "import os\n",
        "test_files = os.listdir('/content/drive/MyDrive/test_satellite')\n",
        "\n",
        "test_satellite_data_with_data_list_swir =[]\n",
        "test_satellite_data_with_data_list_nir =[]\n",
        "test_satellite_data_with_data_list_red =[]\n",
        "test_satellite_data_with_data_list_green =[]\n",
        "test_satellite_data_with_data_list_blue =[]\n",
        "\n",
        "test_satellite_data_with_data_list_ndvi=[]\n",
        "test_satellite_data_with_data_list_mndwi=[]\n",
        "test_satellite_data_with_data_list_index=[]\n",
        "test_satellite_file_list =[] ##### selecting all\n",
        "for file in test_files:\n",
        "\n",
        "    with rasterio.open(os.path.join('/content/drive/MyDrive/test_satellite/',file)) as src:   ################   1026 test_satellite data files with kelp.....\n",
        "      swir = src.read(1)\n",
        "      nir = src.read(2)\n",
        "      red = src.read(3)\n",
        "      green = src.read(4)\n",
        "      blue = src.read(5)\n",
        "      #train_INDEX = es.normalized_diff(swir,nir)\n",
        "      test_NDVI = es.normalized_diff(green,nir)\n",
        "      test_MNDWI = es.normalized_diff(green,swir)\n",
        "      test_INDEX = es.normalized_diff(swir,nir)\n",
        "\n",
        "\n",
        "      test_satellite_data_with_data_list_swir.append(swir)\n",
        "      test_satellite_data_with_data_list_nir.append(nir)\n",
        "      test_satellite_data_with_data_list_red.append(red)\n",
        "      test_satellite_data_with_data_list_green.append(green)\n",
        "      test_satellite_data_with_data_list_blue.append(blue)\n",
        "      test_satellite_data_with_data_list_ndvi.append(test_NDVI)\n",
        "      test_satellite_data_with_data_list_mndwi.append(test_MNDWI)\n",
        "      test_satellite_data_with_data_list_index.append(test_INDEX)\n",
        "      test_satellite_file_list.append(file)"
      ]
    },
    {
      "cell_type": "code",
      "source": [
        "df.head()"
      ],
      "metadata": {
        "colab": {
          "base_uri": "https://localhost:8080/",
          "height": 226
        },
        "id": "q6N8xojEYW9F",
        "outputId": "27994d1e-c03b-4f64-ca8a-a543b2fbff68"
      },
      "execution_count": 91,
      "outputs": [
        {
          "output_type": "execute_result",
          "data": {
            "text/plain": [
              "       NDVI     MNDWI  swir   nir   red  green  blue     INDEX  y  Trans_NDVI  \\\n",
              "0 -0.050491  0.028834  7713  9040  7866   8171  8245 -0.079210  1   -1.052237   \n",
              "1 -0.076896  0.035893  7212  9040  8191   7749  8034 -0.112478  1   -1.403052   \n",
              "2 -0.029745  0.028834  7713  8672  7866   8171  8245 -0.058529  1   -0.692232   \n",
              "3 -0.045217  0.070437  7463  9408  8516   8594  8663 -0.115287  1   -0.970104   \n",
              "4 -0.096695  0.018801  7463  9408  8191   7749  7825 -0.115287  1   -1.572789   \n",
              "\n",
              "   trans_NDVI  trans_MNDWI  trans_INDEX  predicted  \n",
              "0   -1.042874    -0.629481    -0.921411          1  \n",
              "1   -1.382343    -0.122939    -1.506991          1  \n",
              "2   -0.699786    -0.629481    -0.483996          1  \n",
              "3   -0.973796     1.771182    -1.546756          1  \n",
              "4   -1.564284    -0.981432    -1.546756          1  "
            ],
            "text/html": [
              "\n",
              "  <div id=\"df-36769734-5456-4ce0-808a-94ce359eef75\" class=\"colab-df-container\">\n",
              "    <div>\n",
              "<style scoped>\n",
              "    .dataframe tbody tr th:only-of-type {\n",
              "        vertical-align: middle;\n",
              "    }\n",
              "\n",
              "    .dataframe tbody tr th {\n",
              "        vertical-align: top;\n",
              "    }\n",
              "\n",
              "    .dataframe thead th {\n",
              "        text-align: right;\n",
              "    }\n",
              "</style>\n",
              "<table border=\"1\" class=\"dataframe\">\n",
              "  <thead>\n",
              "    <tr style=\"text-align: right;\">\n",
              "      <th></th>\n",
              "      <th>NDVI</th>\n",
              "      <th>MNDWI</th>\n",
              "      <th>swir</th>\n",
              "      <th>nir</th>\n",
              "      <th>red</th>\n",
              "      <th>green</th>\n",
              "      <th>blue</th>\n",
              "      <th>INDEX</th>\n",
              "      <th>y</th>\n",
              "      <th>Trans_NDVI</th>\n",
              "      <th>trans_NDVI</th>\n",
              "      <th>trans_MNDWI</th>\n",
              "      <th>trans_INDEX</th>\n",
              "      <th>predicted</th>\n",
              "    </tr>\n",
              "  </thead>\n",
              "  <tbody>\n",
              "    <tr>\n",
              "      <th>0</th>\n",
              "      <td>-0.050491</td>\n",
              "      <td>0.028834</td>\n",
              "      <td>7713</td>\n",
              "      <td>9040</td>\n",
              "      <td>7866</td>\n",
              "      <td>8171</td>\n",
              "      <td>8245</td>\n",
              "      <td>-0.079210</td>\n",
              "      <td>1</td>\n",
              "      <td>-1.052237</td>\n",
              "      <td>-1.042874</td>\n",
              "      <td>-0.629481</td>\n",
              "      <td>-0.921411</td>\n",
              "      <td>1</td>\n",
              "    </tr>\n",
              "    <tr>\n",
              "      <th>1</th>\n",
              "      <td>-0.076896</td>\n",
              "      <td>0.035893</td>\n",
              "      <td>7212</td>\n",
              "      <td>9040</td>\n",
              "      <td>8191</td>\n",
              "      <td>7749</td>\n",
              "      <td>8034</td>\n",
              "      <td>-0.112478</td>\n",
              "      <td>1</td>\n",
              "      <td>-1.403052</td>\n",
              "      <td>-1.382343</td>\n",
              "      <td>-0.122939</td>\n",
              "      <td>-1.506991</td>\n",
              "      <td>1</td>\n",
              "    </tr>\n",
              "    <tr>\n",
              "      <th>2</th>\n",
              "      <td>-0.029745</td>\n",
              "      <td>0.028834</td>\n",
              "      <td>7713</td>\n",
              "      <td>8672</td>\n",
              "      <td>7866</td>\n",
              "      <td>8171</td>\n",
              "      <td>8245</td>\n",
              "      <td>-0.058529</td>\n",
              "      <td>1</td>\n",
              "      <td>-0.692232</td>\n",
              "      <td>-0.699786</td>\n",
              "      <td>-0.629481</td>\n",
              "      <td>-0.483996</td>\n",
              "      <td>1</td>\n",
              "    </tr>\n",
              "    <tr>\n",
              "      <th>3</th>\n",
              "      <td>-0.045217</td>\n",
              "      <td>0.070437</td>\n",
              "      <td>7463</td>\n",
              "      <td>9408</td>\n",
              "      <td>8516</td>\n",
              "      <td>8594</td>\n",
              "      <td>8663</td>\n",
              "      <td>-0.115287</td>\n",
              "      <td>1</td>\n",
              "      <td>-0.970104</td>\n",
              "      <td>-0.973796</td>\n",
              "      <td>1.771182</td>\n",
              "      <td>-1.546756</td>\n",
              "      <td>1</td>\n",
              "    </tr>\n",
              "    <tr>\n",
              "      <th>4</th>\n",
              "      <td>-0.096695</td>\n",
              "      <td>0.018801</td>\n",
              "      <td>7463</td>\n",
              "      <td>9408</td>\n",
              "      <td>8191</td>\n",
              "      <td>7749</td>\n",
              "      <td>7825</td>\n",
              "      <td>-0.115287</td>\n",
              "      <td>1</td>\n",
              "      <td>-1.572789</td>\n",
              "      <td>-1.564284</td>\n",
              "      <td>-0.981432</td>\n",
              "      <td>-1.546756</td>\n",
              "      <td>1</td>\n",
              "    </tr>\n",
              "  </tbody>\n",
              "</table>\n",
              "</div>\n",
              "    <div class=\"colab-df-buttons\">\n",
              "\n",
              "  <div class=\"colab-df-container\">\n",
              "    <button class=\"colab-df-convert\" onclick=\"convertToInteractive('df-36769734-5456-4ce0-808a-94ce359eef75')\"\n",
              "            title=\"Convert this dataframe to an interactive table.\"\n",
              "            style=\"display:none;\">\n",
              "\n",
              "  <svg xmlns=\"http://www.w3.org/2000/svg\" height=\"24px\" viewBox=\"0 -960 960 960\">\n",
              "    <path d=\"M120-120v-720h720v720H120Zm60-500h600v-160H180v160Zm220 220h160v-160H400v160Zm0 220h160v-160H400v160ZM180-400h160v-160H180v160Zm440 0h160v-160H620v160ZM180-180h160v-160H180v160Zm440 0h160v-160H620v160Z\"/>\n",
              "  </svg>\n",
              "    </button>\n",
              "\n",
              "  <style>\n",
              "    .colab-df-container {\n",
              "      display:flex;\n",
              "      gap: 12px;\n",
              "    }\n",
              "\n",
              "    .colab-df-convert {\n",
              "      background-color: #E8F0FE;\n",
              "      border: none;\n",
              "      border-radius: 50%;\n",
              "      cursor: pointer;\n",
              "      display: none;\n",
              "      fill: #1967D2;\n",
              "      height: 32px;\n",
              "      padding: 0 0 0 0;\n",
              "      width: 32px;\n",
              "    }\n",
              "\n",
              "    .colab-df-convert:hover {\n",
              "      background-color: #E2EBFA;\n",
              "      box-shadow: 0px 1px 2px rgba(60, 64, 67, 0.3), 0px 1px 3px 1px rgba(60, 64, 67, 0.15);\n",
              "      fill: #174EA6;\n",
              "    }\n",
              "\n",
              "    .colab-df-buttons div {\n",
              "      margin-bottom: 4px;\n",
              "    }\n",
              "\n",
              "    [theme=dark] .colab-df-convert {\n",
              "      background-color: #3B4455;\n",
              "      fill: #D2E3FC;\n",
              "    }\n",
              "\n",
              "    [theme=dark] .colab-df-convert:hover {\n",
              "      background-color: #434B5C;\n",
              "      box-shadow: 0px 1px 3px 1px rgba(0, 0, 0, 0.15);\n",
              "      filter: drop-shadow(0px 1px 2px rgba(0, 0, 0, 0.3));\n",
              "      fill: #FFFFFF;\n",
              "    }\n",
              "  </style>\n",
              "\n",
              "    <script>\n",
              "      const buttonEl =\n",
              "        document.querySelector('#df-36769734-5456-4ce0-808a-94ce359eef75 button.colab-df-convert');\n",
              "      buttonEl.style.display =\n",
              "        google.colab.kernel.accessAllowed ? 'block' : 'none';\n",
              "\n",
              "      async function convertToInteractive(key) {\n",
              "        const element = document.querySelector('#df-36769734-5456-4ce0-808a-94ce359eef75');\n",
              "        const dataTable =\n",
              "          await google.colab.kernel.invokeFunction('convertToInteractive',\n",
              "                                                    [key], {});\n",
              "        if (!dataTable) return;\n",
              "\n",
              "        const docLinkHtml = 'Like what you see? Visit the ' +\n",
              "          '<a target=\"_blank\" href=https://colab.research.google.com/notebooks/data_table.ipynb>data table notebook</a>'\n",
              "          + ' to learn more about interactive tables.';\n",
              "        element.innerHTML = '';\n",
              "        dataTable['output_type'] = 'display_data';\n",
              "        await google.colab.output.renderOutput(dataTable, element);\n",
              "        const docLink = document.createElement('div');\n",
              "        docLink.innerHTML = docLinkHtml;\n",
              "        element.appendChild(docLink);\n",
              "      }\n",
              "    </script>\n",
              "  </div>\n",
              "\n",
              "\n",
              "<div id=\"df-4f2ea6ca-49bc-4fa6-8b8f-e778a98a4214\">\n",
              "  <button class=\"colab-df-quickchart\" onclick=\"quickchart('df-4f2ea6ca-49bc-4fa6-8b8f-e778a98a4214')\"\n",
              "            title=\"Suggest charts\"\n",
              "            style=\"display:none;\">\n",
              "\n",
              "<svg xmlns=\"http://www.w3.org/2000/svg\" height=\"24px\"viewBox=\"0 0 24 24\"\n",
              "     width=\"24px\">\n",
              "    <g>\n",
              "        <path d=\"M19 3H5c-1.1 0-2 .9-2 2v14c0 1.1.9 2 2 2h14c1.1 0 2-.9 2-2V5c0-1.1-.9-2-2-2zM9 17H7v-7h2v7zm4 0h-2V7h2v10zm4 0h-2v-4h2v4z\"/>\n",
              "    </g>\n",
              "</svg>\n",
              "  </button>\n",
              "\n",
              "<style>\n",
              "  .colab-df-quickchart {\n",
              "      --bg-color: #E8F0FE;\n",
              "      --fill-color: #1967D2;\n",
              "      --hover-bg-color: #E2EBFA;\n",
              "      --hover-fill-color: #174EA6;\n",
              "      --disabled-fill-color: #AAA;\n",
              "      --disabled-bg-color: #DDD;\n",
              "  }\n",
              "\n",
              "  [theme=dark] .colab-df-quickchart {\n",
              "      --bg-color: #3B4455;\n",
              "      --fill-color: #D2E3FC;\n",
              "      --hover-bg-color: #434B5C;\n",
              "      --hover-fill-color: #FFFFFF;\n",
              "      --disabled-bg-color: #3B4455;\n",
              "      --disabled-fill-color: #666;\n",
              "  }\n",
              "\n",
              "  .colab-df-quickchart {\n",
              "    background-color: var(--bg-color);\n",
              "    border: none;\n",
              "    border-radius: 50%;\n",
              "    cursor: pointer;\n",
              "    display: none;\n",
              "    fill: var(--fill-color);\n",
              "    height: 32px;\n",
              "    padding: 0;\n",
              "    width: 32px;\n",
              "  }\n",
              "\n",
              "  .colab-df-quickchart:hover {\n",
              "    background-color: var(--hover-bg-color);\n",
              "    box-shadow: 0 1px 2px rgba(60, 64, 67, 0.3), 0 1px 3px 1px rgba(60, 64, 67, 0.15);\n",
              "    fill: var(--button-hover-fill-color);\n",
              "  }\n",
              "\n",
              "  .colab-df-quickchart-complete:disabled,\n",
              "  .colab-df-quickchart-complete:disabled:hover {\n",
              "    background-color: var(--disabled-bg-color);\n",
              "    fill: var(--disabled-fill-color);\n",
              "    box-shadow: none;\n",
              "  }\n",
              "\n",
              "  .colab-df-spinner {\n",
              "    border: 2px solid var(--fill-color);\n",
              "    border-color: transparent;\n",
              "    border-bottom-color: var(--fill-color);\n",
              "    animation:\n",
              "      spin 1s steps(1) infinite;\n",
              "  }\n",
              "\n",
              "  @keyframes spin {\n",
              "    0% {\n",
              "      border-color: transparent;\n",
              "      border-bottom-color: var(--fill-color);\n",
              "      border-left-color: var(--fill-color);\n",
              "    }\n",
              "    20% {\n",
              "      border-color: transparent;\n",
              "      border-left-color: var(--fill-color);\n",
              "      border-top-color: var(--fill-color);\n",
              "    }\n",
              "    30% {\n",
              "      border-color: transparent;\n",
              "      border-left-color: var(--fill-color);\n",
              "      border-top-color: var(--fill-color);\n",
              "      border-right-color: var(--fill-color);\n",
              "    }\n",
              "    40% {\n",
              "      border-color: transparent;\n",
              "      border-right-color: var(--fill-color);\n",
              "      border-top-color: var(--fill-color);\n",
              "    }\n",
              "    60% {\n",
              "      border-color: transparent;\n",
              "      border-right-color: var(--fill-color);\n",
              "    }\n",
              "    80% {\n",
              "      border-color: transparent;\n",
              "      border-right-color: var(--fill-color);\n",
              "      border-bottom-color: var(--fill-color);\n",
              "    }\n",
              "    90% {\n",
              "      border-color: transparent;\n",
              "      border-bottom-color: var(--fill-color);\n",
              "    }\n",
              "  }\n",
              "</style>\n",
              "\n",
              "  <script>\n",
              "    async function quickchart(key) {\n",
              "      const quickchartButtonEl =\n",
              "        document.querySelector('#' + key + ' button');\n",
              "      quickchartButtonEl.disabled = true;  // To prevent multiple clicks.\n",
              "      quickchartButtonEl.classList.add('colab-df-spinner');\n",
              "      try {\n",
              "        const charts = await google.colab.kernel.invokeFunction(\n",
              "            'suggestCharts', [key], {});\n",
              "      } catch (error) {\n",
              "        console.error('Error during call to suggestCharts:', error);\n",
              "      }\n",
              "      quickchartButtonEl.classList.remove('colab-df-spinner');\n",
              "      quickchartButtonEl.classList.add('colab-df-quickchart-complete');\n",
              "    }\n",
              "    (() => {\n",
              "      let quickchartButtonEl =\n",
              "        document.querySelector('#df-4f2ea6ca-49bc-4fa6-8b8f-e778a98a4214 button');\n",
              "      quickchartButtonEl.style.display =\n",
              "        google.colab.kernel.accessAllowed ? 'block' : 'none';\n",
              "    })();\n",
              "  </script>\n",
              "</div>\n",
              "\n",
              "    </div>\n",
              "  </div>\n"
            ]
          },
          "metadata": {},
          "execution_count": 91
        }
      ]
    },
    {
      "cell_type": "code",
      "source": [],
      "metadata": {
        "id": "qMrgXdu8Yaw3"
      },
      "execution_count": null,
      "outputs": []
    },
    {
      "cell_type": "code",
      "execution_count": 92,
      "metadata": {
        "colab": {
          "base_uri": "https://localhost:8080/",
          "height": 447
        },
        "id": "38_e1sZevuC4",
        "outputId": "48c6e714-05a0-47b3-bc64-5c678b97d3c0"
      },
      "outputs": [
        {
          "output_type": "execute_result",
          "data": {
            "text/plain": [
              "<Axes: >"
            ]
          },
          "metadata": {},
          "execution_count": 92
        },
        {
          "output_type": "display_data",
          "data": {
            "text/plain": [
              "<Figure size 640x480 with 1 Axes>"
            ],
            "image/png": "[encoded data removed]"
          },
          "metadata": {}
        }
      ],
      "source": [
        "df['NDVI'].hist()"
      ]
    },
    {
      "cell_type": "code",
      "execution_count": 93,
      "metadata": {
        "id": "JgIGiAsAyOto"
      },
      "outputs": [],
      "source": [
        "import seaborn as sns"
      ]
    },
    {
      "cell_type": "code",
      "execution_count": 94,
      "metadata": {
        "colab": {
          "base_uri": "https://localhost:8080/",
          "height": 466
        },
        "id": "7eyf0mHDyKdV",
        "outputId": "6972dd68-c194-4756-8867-5a434f6d2b5f"
      },
      "outputs": [
        {
          "output_type": "execute_result",
          "data": {
            "text/plain": [
              "<Axes: xlabel='NDVI', ylabel='Density'>"
            ]
          },
          "metadata": {},
          "execution_count": 94
        },
        {
          "output_type": "display_data",
          "data": {
            "text/plain": [
              "<Figure size 640x480 with 1 Axes>"
            ],
            "image/png": "[encoded data removed]"
          },
          "metadata": {}
        }
      ],
      "source": [
        "sns.kdeplot(df['NDVI'])"
      ]
    },
    {
      "cell_type": "code",
      "source": [
        "############                      Improve the model as z score is not good in model summary.....\n",
        "#####################                 Try to normalize data using Quantile-transform\n",
        "\n",
        "################# https://machinelearningmastery.com/quantile-transforms-for-machine-learning/"
      ],
      "metadata": {
        "id": "PL3yW9mRc-Kd"
      },
      "execution_count": null,
      "outputs": []
    },
    {
      "cell_type": "code",
      "execution_count": 28,
      "metadata": {
        "id": "ZVy37qHuz-ou"
      },
      "outputs": [],
      "source": [
        "import scipy.stats as stats\n",
        "import matplotlib.pyplot as plt\n",
        "from sklearn.preprocessing import QuantileTransformer\n",
        "from matplotlib import pyplot"
      ]
    },
    {
      "cell_type": "code",
      "execution_count": 56,
      "metadata": {
        "id": "mycbJ22-zvUL"
      },
      "outputs": [],
      "source": [
        "# quantile transform the raw data\n",
        "quantile = QuantileTransformer(output_distribution='normal')\n",
        "data_trans = quantile.fit_transform(X_data)\n",
        "# histogram of the transformed data\n"
      ]
    },
    {
      "cell_type": "code",
      "source": [
        "###############  Transform all data   indices..........."
      ],
      "metadata": {
        "id": "zYjdWR3Hidgz"
      },
      "execution_count": null,
      "outputs": []
    },
    {
      "cell_type": "code",
      "source": [
        "import scipy.stats as stats\n",
        "import matplotlib.pyplot as plt\n",
        "from sklearn.preprocessing import QuantileTransformer\n",
        "from matplotlib import pyplot"
      ],
      "metadata": {
        "id": "KL9QCwUJiuzf"
      },
      "execution_count": 63,
      "outputs": []
    },
    {
      "cell_type": "code",
      "source": [
        "def transform_data(data):\n",
        "    X_data = data.reshape(data.shape[0],1)\n",
        "    quantile = QuantileTransformer(output_distribution='normal')\n",
        "    data_trans = quantile.fit_transform(X_data)\n",
        "    Y_data = data_trans.reshape(data_trans.shape[0])\n",
        "    return Y_data\n",
        "\n"
      ],
      "metadata": {
        "id": "S2LHw1rUikj1"
      },
      "execution_count": 86,
      "outputs": []
    },
    {
      "cell_type": "code",
      "source": [
        "df['trans_NDVI'] = transform_data(np.array(df['NDVI']))\n",
        "df['trans_MNDWI'] = transform_data(np.array(df['MNDWI']))\n",
        "df['trans_INDEX'] = transform_data(np.array(df['INDEX']))"
      ],
      "metadata": {
        "id": "GRM86uS2i1i4"
      },
      "execution_count": 67,
      "outputs": []
    },
    {
      "cell_type": "code",
      "source": [
        "df['trans_INDEX'].hist()"
      ],
      "metadata": {
        "colab": {
          "base_uri": "https://localhost:8080/",
          "height": 447
        },
        "id": "cZZ07nmJjXdj",
        "outputId": "e8c7520c-601e-4dc0-d713-1c86f6a99692"
      },
      "execution_count": 95,
      "outputs": [
        {
          "output_type": "execute_result",
          "data": {
            "text/plain": [
              "<Axes: >"
            ]
          },
          "metadata": {},
          "execution_count": 95
        },
        {
          "output_type": "display_data",
          "data": {
            "text/plain": [
              "<Figure size 640x480 with 1 Axes>"
            ],
            "image/png": "[encoded data removed]"
          },
          "metadata": {}
        }
      ]
    },
    {
      "cell_type": "code",
      "source": [
        "df['trans_NDVI'].hist()"
      ],
      "metadata": {
        "colab": {
          "base_uri": "https://localhost:8080/",
          "height": 447
        },
        "id": "zAe6RGptjcdi",
        "outputId": "ab7e1ace-c864-4381-fb46-515c33107517"
      },
      "execution_count": 96,
      "outputs": [
        {
          "output_type": "execute_result",
          "data": {
            "text/plain": [
              "<Axes: >"
            ]
          },
          "metadata": {},
          "execution_count": 96
        },
        {
          "output_type": "display_data",
          "data": {
            "text/plain": [
              "<Figure size 640x480 with 1 Axes>"
            ],
            "image/png": "[encoded data removed]"
          },
          "metadata": {}
        }
      ]
    },
    {
      "cell_type": "code",
      "source": [
        "df['trans_MNDWI'].hist()"
      ],
      "metadata": {
        "colab": {
          "base_uri": "https://localhost:8080/",
          "height": 447
        },
        "id": "eOSnN2XOje_e",
        "outputId": "fcc2c6ee-5ef0-46fa-bbc9-8ecd6870c9a1"
      },
      "execution_count": 97,
      "outputs": [
        {
          "output_type": "execute_result",
          "data": {
            "text/plain": [
              "<Axes: >"
            ]
          },
          "metadata": {},
          "execution_count": 97
        },
        {
          "output_type": "display_data",
          "data": {
            "text/plain": [
              "<Figure size 640x480 with 1 Axes>"
            ],
            "image/png": "[encoded data removed]"
          },
          "metadata": {}
        }
      ]
    },
    {
      "cell_type": "code",
      "source": [
        "df.head()"
      ],
      "metadata": {
        "colab": {
          "base_uri": "https://localhost:8080/",
          "height": 226
        },
        "id": "IHu_loU-jvoR",
        "outputId": "3d1446d0-734e-4678-b924-cdb72193b214"
      },
      "execution_count": 98,
      "outputs": [
        {
          "output_type": "execute_result",
          "data": {
            "text/plain": [
              "       NDVI     MNDWI  swir   nir   red  green  blue     INDEX  y  Trans_NDVI  \\\n",
              "0 -0.050491  0.028834  7713  9040  7866   8171  8245 -0.079210  1   -1.052237   \n",
              "1 -0.076896  0.035893  7212  9040  8191   7749  8034 -0.112478  1   -1.403052   \n",
              "2 -0.029745  0.028834  7713  8672  7866   8171  8245 -0.058529  1   -0.692232   \n",
              "3 -0.045217  0.070437  7463  9408  8516   8594  8663 -0.115287  1   -0.970104   \n",
              "4 -0.096695  0.018801  7463  9408  8191   7749  7825 -0.115287  1   -1.572789   \n",
              "\n",
              "   trans_NDVI  trans_MNDWI  trans_INDEX  predicted  \n",
              "0   -1.042874    -0.629481    -0.921411          1  \n",
              "1   -1.382343    -0.122939    -1.506991          1  \n",
              "2   -0.699786    -0.629481    -0.483996          1  \n",
              "3   -0.973796     1.771182    -1.546756          1  \n",
              "4   -1.564284    -0.981432    -1.546756          1  "
            ],
            "text/html": [
              "\n",
              "  <div id=\"df-0f0627f0-134d-48b0-a774-f37287fa3ba7\" class=\"colab-df-container\">\n",
              "    <div>\n",
              "<style scoped>\n",
              "    .dataframe tbody tr th:only-of-type {\n",
              "        vertical-align: middle;\n",
              "    }\n",
              "\n",
              "    .dataframe tbody tr th {\n",
              "        vertical-align: top;\n",
              "    }\n",
              "\n",
              "    .dataframe thead th {\n",
              "        text-align: right;\n",
              "    }\n",
              "</style>\n",
              "<table border=\"1\" class=\"dataframe\">\n",
              "  <thead>\n",
              "    <tr style=\"text-align: right;\">\n",
              "      <th></th>\n",
              "      <th>NDVI</th>\n",
              "      <th>MNDWI</th>\n",
              "      <th>swir</th>\n",
              "      <th>nir</th>\n",
              "      <th>red</th>\n",
              "      <th>green</th>\n",
              "      <th>blue</th>\n",
              "      <th>INDEX</th>\n",
              "      <th>y</th>\n",
              "      <th>Trans_NDVI</th>\n",
              "      <th>trans_NDVI</th>\n",
              "      <th>trans_MNDWI</th>\n",
              "      <th>trans_INDEX</th>\n",
              "      <th>predicted</th>\n",
              "    </tr>\n",
              "  </thead>\n",
              "  <tbody>\n",
              "    <tr>\n",
              "      <th>0</th>\n",
              "      <td>-0.050491</td>\n",
              "      <td>0.028834</td>\n",
              "      <td>7713</td>\n",
              "      <td>9040</td>\n",
              "      <td>7866</td>\n",
              "      <td>8171</td>\n",
              "      <td>8245</td>\n",
              "      <td>-0.079210</td>\n",
              "      <td>1</td>\n",
              "      <td>-1.052237</td>\n",
              "      <td>-1.042874</td>\n",
              "      <td>-0.629481</td>\n",
              "      <td>-0.921411</td>\n",
              "      <td>1</td>\n",
              "    </tr>\n",
              "    <tr>\n",
              "      <th>1</th>\n",
              "      <td>-0.076896</td>\n",
              "      <td>0.035893</td>\n",
              "      <td>7212</td>\n",
              "      <td>9040</td>\n",
              "      <td>8191</td>\n",
              "      <td>7749</td>\n",
              "      <td>8034</td>\n",
              "      <td>-0.112478</td>\n",
              "      <td>1</td>\n",
              "      <td>-1.403052</td>\n",
              "      <td>-1.382343</td>\n",
              "      <td>-0.122939</td>\n",
              "      <td>-1.506991</td>\n",
              "      <td>1</td>\n",
              "    </tr>\n",
              "    <tr>\n",
              "      <th>2</th>\n",
              "      <td>-0.029745</td>\n",
              "      <td>0.028834</td>\n",
              "      <td>7713</td>\n",
              "      <td>8672</td>\n",
              "      <td>7866</td>\n",
              "      <td>8171</td>\n",
              "      <td>8245</td>\n",
              "      <td>-0.058529</td>\n",
              "      <td>1</td>\n",
              "      <td>-0.692232</td>\n",
              "      <td>-0.699786</td>\n",
              "      <td>-0.629481</td>\n",
              "      <td>-0.483996</td>\n",
              "      <td>1</td>\n",
              "    </tr>\n",
              "    <tr>\n",
              "      <th>3</th>\n",
              "      <td>-0.045217</td>\n",
              "      <td>0.070437</td>\n",
              "      <td>7463</td>\n",
              "      <td>9408</td>\n",
              "      <td>8516</td>\n",
              "      <td>8594</td>\n",
              "      <td>8663</td>\n",
              "      <td>-0.115287</td>\n",
              "      <td>1</td>\n",
              "      <td>-0.970104</td>\n",
              "      <td>-0.973796</td>\n",
              "      <td>1.771182</td>\n",
              "      <td>-1.546756</td>\n",
              "      <td>1</td>\n",
              "    </tr>\n",
              "    <tr>\n",
              "      <th>4</th>\n",
              "      <td>-0.096695</td>\n",
              "      <td>0.018801</td>\n",
              "      <td>7463</td>\n",
              "      <td>9408</td>\n",
              "      <td>8191</td>\n",
              "      <td>7749</td>\n",
              "      <td>7825</td>\n",
              "      <td>-0.115287</td>\n",
              "      <td>1</td>\n",
              "      <td>-1.572789</td>\n",
              "      <td>-1.564284</td>\n",
              "      <td>-0.981432</td>\n",
              "      <td>-1.546756</td>\n",
              "      <td>1</td>\n",
              "    </tr>\n",
              "  </tbody>\n",
              "</table>\n",
              "</div>\n",
              "    <div class=\"colab-df-buttons\">\n",
              "\n",
              "  <div class=\"colab-df-container\">\n",
              "    <button class=\"colab-df-convert\" onclick=\"convertToInteractive('df-0f0627f0-134d-48b0-a774-f37287fa3ba7')\"\n",
              "            title=\"Convert this dataframe to an interactive table.\"\n",
              "            style=\"display:none;\">\n",
              "\n",
              "  <svg xmlns=\"http://www.w3.org/2000/svg\" height=\"24px\" viewBox=\"0 -960 960 960\">\n",
              "    <path d=\"M120-120v-720h720v720H120Zm60-500h600v-160H180v160Zm220 220h160v-160H400v160Zm0 220h160v-160H400v160ZM180-400h160v-160H180v160Zm440 0h160v-160H620v160ZM180-180h160v-160H180v160Zm440 0h160v-160H620v160Z\"/>\n",
              "  </svg>\n",
              "    </button>\n",
              "\n",
              "  <style>\n",
              "    .colab-df-container {\n",
              "      display:flex;\n",
              "      gap: 12px;\n",
              "    }\n",
              "\n",
              "    .colab-df-convert {\n",
              "      background-color: #E8F0FE;\n",
              "      border: none;\n",
              "      border-radius: 50%;\n",
              "      cursor: pointer;\n",
              "      display: none;\n",
              "      fill: #1967D2;\n",
              "      height: 32px;\n",
              "      padding: 0 0 0 0;\n",
              "      width: 32px;\n",
              "    }\n",
              "\n",
              "    .colab-df-convert:hover {\n",
              "      background-color: #E2EBFA;\n",
              "      box-shadow: 0px 1px 2px rgba(60, 64, 67, 0.3), 0px 1px 3px 1px rgba(60, 64, 67, 0.15);\n",
              "      fill: #174EA6;\n",
              "    }\n",
              "\n",
              "    .colab-df-buttons div {\n",
              "      margin-bottom: 4px;\n",
              "    }\n",
              "\n",
              "    [theme=dark] .colab-df-convert {\n",
              "      background-color: #3B4455;\n",
              "      fill: #D2E3FC;\n",
              "    }\n",
              "\n",
              "    [theme=dark] .colab-df-convert:hover {\n",
              "      background-color: #434B5C;\n",
              "      box-shadow: 0px 1px 3px 1px rgba(0, 0, 0, 0.15);\n",
              "      filter: drop-shadow(0px 1px 2px rgba(0, 0, 0, 0.3));\n",
              "      fill: #FFFFFF;\n",
              "    }\n",
              "  </style>\n",
              "\n",
              "    <script>\n",
              "      const buttonEl =\n",
              "        document.querySelector('#df-0f0627f0-134d-48b0-a774-f37287fa3ba7 button.colab-df-convert');\n",
              "      buttonEl.style.display =\n",
              "        google.colab.kernel.accessAllowed ? 'block' : 'none';\n",
              "\n",
              "      async function convertToInteractive(key) {\n",
              "        const element = document.querySelector('#df-0f0627f0-134d-48b0-a774-f37287fa3ba7');\n",
              "        const dataTable =\n",
              "          await google.colab.kernel.invokeFunction('convertToInteractive',\n",
              "                                                    [key], {});\n",
              "        if (!dataTable) return;\n",
              "\n",
              "        const docLinkHtml = 'Like what you see? Visit the ' +\n",
              "          '<a target=\"_blank\" href=https://colab.research.google.com/notebooks/data_table.ipynb>data table notebook</a>'\n",
              "          + ' to learn more about interactive tables.';\n",
              "        element.innerHTML = '';\n",
              "        dataTable['output_type'] = 'display_data';\n",
              "        await google.colab.output.renderOutput(dataTable, element);\n",
              "        const docLink = document.createElement('div');\n",
              "        docLink.innerHTML = docLinkHtml;\n",
              "        element.appendChild(docLink);\n",
              "      }\n",
              "    </script>\n",
              "  </div>\n",
              "\n",
              "\n",
              "<div id=\"df-28d2277e-0ef8-477d-abb9-cc6de0e164f6\">\n",
              "  <button class=\"colab-df-quickchart\" onclick=\"quickchart('df-28d2277e-0ef8-477d-abb9-cc6de0e164f6')\"\n",
              "            title=\"Suggest charts\"\n",
              "            style=\"display:none;\">\n",
              "\n",
              "<svg xmlns=\"http://www.w3.org/2000/svg\" height=\"24px\"viewBox=\"0 0 24 24\"\n",
              "     width=\"24px\">\n",
              "    <g>\n",
              "        <path d=\"M19 3H5c-1.1 0-2 .9-2 2v14c0 1.1.9 2 2 2h14c1.1 0 2-.9 2-2V5c0-1.1-.9-2-2-2zM9 17H7v-7h2v7zm4 0h-2V7h2v10zm4 0h-2v-4h2v4z\"/>\n",
              "    </g>\n",
              "</svg>\n",
              "  </button>\n",
              "\n",
              "<style>\n",
              "  .colab-df-quickchart {\n",
              "      --bg-color: #E8F0FE;\n",
              "      --fill-color: #1967D2;\n",
              "      --hover-bg-color: #E2EBFA;\n",
              "      --hover-fill-color: #174EA6;\n",
              "      --disabled-fill-color: #AAA;\n",
              "      --disabled-bg-color: #DDD;\n",
              "  }\n",
              "\n",
              "  [theme=dark] .colab-df-quickchart {\n",
              "      --bg-color: #3B4455;\n",
              "      --fill-color: #D2E3FC;\n",
              "      --hover-bg-color: #434B5C;\n",
              "      --hover-fill-color: #FFFFFF;\n",
              "      --disabled-bg-color: #3B4455;\n",
              "      --disabled-fill-color: #666;\n",
              "  }\n",
              "\n",
              "  .colab-df-quickchart {\n",
              "    background-color: var(--bg-color);\n",
              "    border: none;\n",
              "    border-radius: 50%;\n",
              "    cursor: pointer;\n",
              "    display: none;\n",
              "    fill: var(--fill-color);\n",
              "    height: 32px;\n",
              "    padding: 0;\n",
              "    width: 32px;\n",
              "  }\n",
              "\n",
              "  .colab-df-quickchart:hover {\n",
              "    background-color: var(--hover-bg-color);\n",
              "    box-shadow: 0 1px 2px rgba(60, 64, 67, 0.3), 0 1px 3px 1px rgba(60, 64, 67, 0.15);\n",
              "    fill: var(--button-hover-fill-color);\n",
              "  }\n",
              "\n",
              "  .colab-df-quickchart-complete:disabled,\n",
              "  .colab-df-quickchart-complete:disabled:hover {\n",
              "    background-color: var(--disabled-bg-color);\n",
              "    fill: var(--disabled-fill-color);\n",
              "    box-shadow: none;\n",
              "  }\n",
              "\n",
              "  .colab-df-spinner {\n",
              "    border: 2px solid var(--fill-color);\n",
              "    border-color: transparent;\n",
              "    border-bottom-color: var(--fill-color);\n",
              "    animation:\n",
              "      spin 1s steps(1) infinite;\n",
              "  }\n",
              "\n",
              "  @keyframes spin {\n",
              "    0% {\n",
              "      border-color: transparent;\n",
              "      border-bottom-color: var(--fill-color);\n",
              "      border-left-color: var(--fill-color);\n",
              "    }\n",
              "    20% {\n",
              "      border-color: transparent;\n",
              "      border-left-color: var(--fill-color);\n",
              "      border-top-color: var(--fill-color);\n",
              "    }\n",
              "    30% {\n",
              "      border-color: transparent;\n",
              "      border-left-color: var(--fill-color);\n",
              "      border-top-color: var(--fill-color);\n",
              "      border-right-color: var(--fill-color);\n",
              "    }\n",
              "    40% {\n",
              "      border-color: transparent;\n",
              "      border-right-color: var(--fill-color);\n",
              "      border-top-color: var(--fill-color);\n",
              "    }\n",
              "    60% {\n",
              "      border-color: transparent;\n",
              "      border-right-color: var(--fill-color);\n",
              "    }\n",
              "    80% {\n",
              "      border-color: transparent;\n",
              "      border-right-color: var(--fill-color);\n",
              "      border-bottom-color: var(--fill-color);\n",
              "    }\n",
              "    90% {\n",
              "      border-color: transparent;\n",
              "      border-bottom-color: var(--fill-color);\n",
              "    }\n",
              "  }\n",
              "</style>\n",
              "\n",
              "  <script>\n",
              "    async function quickchart(key) {\n",
              "      const quickchartButtonEl =\n",
              "        document.querySelector('#' + key + ' button');\n",
              "      quickchartButtonEl.disabled = true;  // To prevent multiple clicks.\n",
              "      quickchartButtonEl.classList.add('colab-df-spinner');\n",
              "      try {\n",
              "        const charts = await google.colab.kernel.invokeFunction(\n",
              "            'suggestCharts', [key], {});\n",
              "      } catch (error) {\n",
              "        console.error('Error during call to suggestCharts:', error);\n",
              "      }\n",
              "      quickchartButtonEl.classList.remove('colab-df-spinner');\n",
              "      quickchartButtonEl.classList.add('colab-df-quickchart-complete');\n",
              "    }\n",
              "    (() => {\n",
              "      let quickchartButtonEl =\n",
              "        document.querySelector('#df-28d2277e-0ef8-477d-abb9-cc6de0e164f6 button');\n",
              "      quickchartButtonEl.style.display =\n",
              "        google.colab.kernel.accessAllowed ? 'block' : 'none';\n",
              "    })();\n",
              "  </script>\n",
              "</div>\n",
              "\n",
              "    </div>\n",
              "  </div>\n"
            ]
          },
          "metadata": {},
          "execution_count": 98
        }
      ]
    },
    {
      "cell_type": "code",
      "source": [
        "from sklearn.linear_model import LogisticRegression\n",
        "logistic= LogisticRegression()"
      ],
      "metadata": {
        "id": "jULTvY-hkLdW"
      },
      "execution_count": 99,
      "outputs": []
    },
    {
      "cell_type": "code",
      "source": [
        "logistic.fit(df[['trans_NDVI']+['trans_MNDWI']+['trans_INDEX']], df['y'])"
      ],
      "metadata": {
        "colab": {
          "base_uri": "https://localhost:8080/",
          "height": 75
        },
        "id": "OEJQMBhLkOJN",
        "outputId": "759f8151-602e-4fb4-c637-153dc71723b5"
      },
      "execution_count": 108,
      "outputs": [
        {
          "output_type": "execute_result",
          "data": {
            "text/plain": [
              "LogisticRegression()"
            ],
            "text/html": [
              "<style>#sk-container-id-6 {color: black;background-color: white;}#sk-container-id-6 pre{padding: 0;}#sk-container-id-6 div.sk-toggleable {background-color: white;}#sk-container-id-6 label.sk-toggleable__label {cursor: pointer;display: block;width: 100%;margin-bottom: 0;padding: 0.3em;box-sizing: border-box;text-align: center;}#sk-container-id-6 label.sk-toggleable__label-arrow:before {content: \"▸\";float: left;margin-right: 0.25em;color: #696969;}#sk-container-id-6 label.sk-toggleable__label-arrow:hover:before {color: black;}#sk-container-id-6 div.sk-estimator:hover label.sk-toggleable__label-arrow:before {color: black;}#sk-container-id-6 div.sk-toggleable__content {max-height: 0;max-width: 0;overflow: hidden;text-align: left;background-color: #f0f8ff;}#sk-container-id-6 div.sk-toggleable__content pre {margin: 0.2em;color: black;border-radius: 0.25em;background-color: #f0f8ff;}#sk-container-id-6 input.sk-toggleable__control:checked~div.sk-toggleable__content {max-height: 200px;max-width: 100%;overflow: auto;}#sk-container-id-6 input.sk-toggleable__control:checked~label.sk-toggleable__label-arrow:before {content: \"▾\";}#sk-container-id-6 div.sk-estimator input.sk-toggleable__control:checked~label.sk-toggleable__label {background-color: #d4ebff;}#sk-container-id-6 div.sk-label input.sk-toggleable__control:checked~label.sk-toggleable__label {background-color: #d4ebff;}#sk-container-id-6 input.sk-hidden--visually {border: 0;clip: rect(1px 1px 1px 1px);clip: rect(1px, 1px, 1px, 1px);height: 1px;margin: -1px;overflow: hidden;padding: 0;position: absolute;width: 1px;}#sk-container-id-6 div.sk-estimator {font-family: monospace;background-color: #f0f8ff;border: 1px dotted black;border-radius: 0.25em;box-sizing: border-box;margin-bottom: 0.5em;}#sk-container-id-6 div.sk-estimator:hover {background-color: #d4ebff;}#sk-container-id-6 div.sk-parallel-item::after {content: \"\";width: 100%;border-bottom: 1px solid gray;flex-grow: 1;}#sk-container-id-6 div.sk-label:hover label.sk-toggleable__label {background-color: #d4ebff;}#sk-container-id-6 div.sk-serial::before {content: \"\";position: absolute;border-left: 1px solid gray;box-sizing: border-box;top: 0;bottom: 0;left: 50%;z-index: 0;}#sk-container-id-6 div.sk-serial {display: flex;flex-direction: column;align-items: center;background-color: white;padding-right: 0.2em;padding-left: 0.2em;position: relative;}#sk-container-id-6 div.sk-item {position: relative;z-index: 1;}#sk-container-id-6 div.sk-parallel {display: flex;align-items: stretch;justify-content: center;background-color: white;position: relative;}#sk-container-id-6 div.sk-item::before, #sk-container-id-6 div.sk-parallel-item::before {content: \"\";position: absolute;border-left: 1px solid gray;box-sizing: border-box;top: 0;bottom: 0;left: 50%;z-index: -1;}#sk-container-id-6 div.sk-parallel-item {display: flex;flex-direction: column;z-index: 1;position: relative;background-color: white;}#sk-container-id-6 div.sk-parallel-item:first-child::after {align-self: flex-end;width: 50%;}#sk-container-id-6 div.sk-parallel-item:last-child::after {align-self: flex-start;width: 50%;}#sk-container-id-6 div.sk-parallel-item:only-child::after {width: 0;}#sk-container-id-6 div.sk-dashed-wrapped {border: 1px dashed gray;margin: 0 0.4em 0.5em 0.4em;box-sizing: border-box;padding-bottom: 0.4em;background-color: white;}#sk-container-id-6 div.sk-label label {font-family: monospace;font-weight: bold;display: inline-block;line-height: 1.2em;}#sk-container-id-6 div.sk-label-container {text-align: center;}#sk-container-id-6 div.sk-container {/* jupyter's `normalize.less` sets `[hidden] { display: none; }` but bootstrap.min.css set `[hidden] { display: none !important; }` so we also need the `!important` here to be able to override the default hidden behavior on the sphinx rendered scikit-learn.org. See: https://github.com/scikit-learn/scikit-learn/issues/21755 */display: inline-block !important;position: relative;}#sk-container-id-6 div.sk-text-repr-fallback {display: none;}</style><div id=\"sk-container-id-6\" class=\"sk-top-container\"><div class=\"sk-text-repr-fallback\"><pre>LogisticRegression()</pre><b>In a Jupyter environment, please rerun this cell to show the HTML representation or trust the notebook. <br />On GitHub, the HTML representation is unable to render, please try loading this page with nbviewer.org.</b></div><div class=\"sk-container\" hidden><div class=\"sk-item\"><div class=\"sk-estimator sk-toggleable\"><input class=\"sk-toggleable__control sk-hidden--visually\" id=\"sk-estimator-id-6\" type=\"checkbox\" checked><label for=\"sk-estimator-id-6\" class=\"sk-toggleable__label sk-toggleable__label-arrow\">LogisticRegression</label><div class=\"sk-toggleable__content\"><pre>LogisticRegression()</pre></div></div></div></div></div>"
            ]
          },
          "metadata": {},
          "execution_count": 108
        }
      ]
    },
    {
      "cell_type": "code",
      "source": [
        "LogisticRegression(C=1.0, class_weight=None, dual=False, fit_intercept=True,\n",
        "          intercept_scaling=1, max_iter=100, multi_class='ovr', n_jobs=1,\n",
        "          penalty='l2', random_state=None, solver='liblinear', tol=0.0001,\n",
        "          verbose=0, warm_start=False)"
      ],
      "metadata": {
        "colab": {
          "base_uri": "https://localhost:8080/",
          "height": 75
        },
        "id": "SOrQxSRAke9P",
        "outputId": "897a9b44-ab6a-442f-b606-3d1aedcd575e"
      },
      "execution_count": 109,
      "outputs": [
        {
          "output_type": "execute_result",
          "data": {
            "text/plain": [
              "LogisticRegression(multi_class='ovr', n_jobs=1, solver='liblinear')"
            ],
            "text/html": [
              "<style>#sk-container-id-7 {color: black;background-color: white;}#sk-container-id-7 pre{padding: 0;}#sk-container-id-7 div.sk-toggleable {background-color: white;}#sk-container-id-7 label.sk-toggleable__label {cursor: pointer;display: block;width: 100%;margin-bottom: 0;padding: 0.3em;box-sizing: border-box;text-align: center;}#sk-container-id-7 label.sk-toggleable__label-arrow:before {content: \"▸\";float: left;margin-right: 0.25em;color: #696969;}#sk-container-id-7 label.sk-toggleable__label-arrow:hover:before {color: black;}#sk-container-id-7 div.sk-estimator:hover label.sk-toggleable__label-arrow:before {color: black;}#sk-container-id-7 div.sk-toggleable__content {max-height: 0;max-width: 0;overflow: hidden;text-align: left;background-color: #f0f8ff;}#sk-container-id-7 div.sk-toggleable__content pre {margin: 0.2em;color: black;border-radius: 0.25em;background-color: #f0f8ff;}#sk-container-id-7 input.sk-toggleable__control:checked~div.sk-toggleable__content {max-height: 200px;max-width: 100%;overflow: auto;}#sk-container-id-7 input.sk-toggleable__control:checked~label.sk-toggleable__label-arrow:before {content: \"▾\";}#sk-container-id-7 div.sk-estimator input.sk-toggleable__control:checked~label.sk-toggleable__label {background-color: #d4ebff;}#sk-container-id-7 div.sk-label input.sk-toggleable__control:checked~label.sk-toggleable__label {background-color: #d4ebff;}#sk-container-id-7 input.sk-hidden--visually {border: 0;clip: rect(1px 1px 1px 1px);clip: rect(1px, 1px, 1px, 1px);height: 1px;margin: -1px;overflow: hidden;padding: 0;position: absolute;width: 1px;}#sk-container-id-7 div.sk-estimator {font-family: monospace;background-color: #f0f8ff;border: 1px dotted black;border-radius: 0.25em;box-sizing: border-box;margin-bottom: 0.5em;}#sk-container-id-7 div.sk-estimator:hover {background-color: #d4ebff;}#sk-container-id-7 div.sk-parallel-item::after {content: \"\";width: 100%;border-bottom: 1px solid gray;flex-grow: 1;}#sk-container-id-7 div.sk-label:hover label.sk-toggleable__label {background-color: #d4ebff;}#sk-container-id-7 div.sk-serial::before {content: \"\";position: absolute;border-left: 1px solid gray;box-sizing: border-box;top: 0;bottom: 0;left: 50%;z-index: 0;}#sk-container-id-7 div.sk-serial {display: flex;flex-direction: column;align-items: center;background-color: white;padding-right: 0.2em;padding-left: 0.2em;position: relative;}#sk-container-id-7 div.sk-item {position: relative;z-index: 1;}#sk-container-id-7 div.sk-parallel {display: flex;align-items: stretch;justify-content: center;background-color: white;position: relative;}#sk-container-id-7 div.sk-item::before, #sk-container-id-7 div.sk-parallel-item::before {content: \"\";position: absolute;border-left: 1px solid gray;box-sizing: border-box;top: 0;bottom: 0;left: 50%;z-index: -1;}#sk-container-id-7 div.sk-parallel-item {display: flex;flex-direction: column;z-index: 1;position: relative;background-color: white;}#sk-container-id-7 div.sk-parallel-item:first-child::after {align-self: flex-end;width: 50%;}#sk-container-id-7 div.sk-parallel-item:last-child::after {align-self: flex-start;width: 50%;}#sk-container-id-7 div.sk-parallel-item:only-child::after {width: 0;}#sk-container-id-7 div.sk-dashed-wrapped {border: 1px dashed gray;margin: 0 0.4em 0.5em 0.4em;box-sizing: border-box;padding-bottom: 0.4em;background-color: white;}#sk-container-id-7 div.sk-label label {font-family: monospace;font-weight: bold;display: inline-block;line-height: 1.2em;}#sk-container-id-7 div.sk-label-container {text-align: center;}#sk-container-id-7 div.sk-container {/* jupyter's `normalize.less` sets `[hidden] { display: none; }` but bootstrap.min.css set `[hidden] { display: none !important; }` so we also need the `!important` here to be able to override the default hidden behavior on the sphinx rendered scikit-learn.org. See: https://github.com/scikit-learn/scikit-learn/issues/21755 */display: inline-block !important;position: relative;}#sk-container-id-7 div.sk-text-repr-fallback {display: none;}</style><div id=\"sk-container-id-7\" class=\"sk-top-container\"><div class=\"sk-text-repr-fallback\"><pre>LogisticRegression(multi_class=&#x27;ovr&#x27;, n_jobs=1, solver=&#x27;liblinear&#x27;)</pre><b>In a Jupyter environment, please rerun this cell to show the HTML representation or trust the notebook. <br />On GitHub, the HTML representation is unable to render, please try loading this page with nbviewer.org.</b></div><div class=\"sk-container\" hidden><div class=\"sk-item\"><div class=\"sk-estimator sk-toggleable\"><input class=\"sk-toggleable__control sk-hidden--visually\" id=\"sk-estimator-id-7\" type=\"checkbox\" checked><label for=\"sk-estimator-id-7\" class=\"sk-toggleable__label sk-toggleable__label-arrow\">LogisticRegression</label><div class=\"sk-toggleable__content\"><pre>LogisticRegression(multi_class=&#x27;ovr&#x27;, n_jobs=1, solver=&#x27;liblinear&#x27;)</pre></div></div></div></div></div>"
            ]
          },
          "metadata": {},
          "execution_count": 109
        }
      ]
    },
    {
      "cell_type": "code",
      "source": [
        "predict_df=logistic.predict(df[['trans_NDVI']+['trans_MNDWI']+['trans_INDEX']])\n",
        "df['predicted'] = predict_df"
      ],
      "metadata": {
        "id": "bW2SXP5SjhdM"
      },
      "execution_count": 110,
      "outputs": []
    },
    {
      "cell_type": "code",
      "source": [
        "df.head()"
      ],
      "metadata": {
        "colab": {
          "base_uri": "https://localhost:8080/",
          "height": 226
        },
        "id": "fmfw1oCSkkBZ",
        "outputId": "1965b398-6b11-48c9-d1c4-1209b3375f03"
      },
      "execution_count": 111,
      "outputs": [
        {
          "output_type": "execute_result",
          "data": {
            "text/plain": [
              "       NDVI     MNDWI  swir   nir   red  green  blue     INDEX  y  Trans_NDVI  \\\n",
              "0 -0.050491  0.028834  7713  9040  7866   8171  8245 -0.079210  1   -1.052237   \n",
              "1 -0.076896  0.035893  7212  9040  8191   7749  8034 -0.112478  1   -1.403052   \n",
              "2 -0.029745  0.028834  7713  8672  7866   8171  8245 -0.058529  1   -0.692232   \n",
              "3 -0.045217  0.070437  7463  9408  8516   8594  8663 -0.115287  1   -0.970104   \n",
              "4 -0.096695  0.018801  7463  9408  8191   7749  7825 -0.115287  1   -1.572789   \n",
              "\n",
              "   trans_NDVI  trans_MNDWI  trans_INDEX  predicted  \n",
              "0   -1.042874    -0.629481    -0.921411          1  \n",
              "1   -1.382343    -0.122939    -1.506991          1  \n",
              "2   -0.699786    -0.629481    -0.483996          1  \n",
              "3   -0.973796     1.771182    -1.546756          1  \n",
              "4   -1.564284    -0.981432    -1.546756          1  "
            ],
            "text/html": [
              "\n",
              "  <div id=\"df-fade864b-bcc1-4ea7-b27c-eed7d162ab92\" class=\"colab-df-container\">\n",
              "    <div>\n",
              "<style scoped>\n",
              "    .dataframe tbody tr th:only-of-type {\n",
              "        vertical-align: middle;\n",
              "    }\n",
              "\n",
              "    .dataframe tbody tr th {\n",
              "        vertical-align: top;\n",
              "    }\n",
              "\n",
              "    .dataframe thead th {\n",
              "        text-align: right;\n",
              "    }\n",
              "</style>\n",
              "<table border=\"1\" class=\"dataframe\">\n",
              "  <thead>\n",
              "    <tr style=\"text-align: right;\">\n",
              "      <th></th>\n",
              "      <th>NDVI</th>\n",
              "      <th>MNDWI</th>\n",
              "      <th>swir</th>\n",
              "      <th>nir</th>\n",
              "      <th>red</th>\n",
              "      <th>green</th>\n",
              "      <th>blue</th>\n",
              "      <th>INDEX</th>\n",
              "      <th>y</th>\n",
              "      <th>Trans_NDVI</th>\n",
              "      <th>trans_NDVI</th>\n",
              "      <th>trans_MNDWI</th>\n",
              "      <th>trans_INDEX</th>\n",
              "      <th>predicted</th>\n",
              "    </tr>\n",
              "  </thead>\n",
              "  <tbody>\n",
              "    <tr>\n",
              "      <th>0</th>\n",
              "      <td>-0.050491</td>\n",
              "      <td>0.028834</td>\n",
              "      <td>7713</td>\n",
              "      <td>9040</td>\n",
              "      <td>7866</td>\n",
              "      <td>8171</td>\n",
              "      <td>8245</td>\n",
              "      <td>-0.079210</td>\n",
              "      <td>1</td>\n",
              "      <td>-1.052237</td>\n",
              "      <td>-1.042874</td>\n",
              "      <td>-0.629481</td>\n",
              "      <td>-0.921411</td>\n",
              "      <td>1</td>\n",
              "    </tr>\n",
              "    <tr>\n",
              "      <th>1</th>\n",
              "      <td>-0.076896</td>\n",
              "      <td>0.035893</td>\n",
              "      <td>7212</td>\n",
              "      <td>9040</td>\n",
              "      <td>8191</td>\n",
              "      <td>7749</td>\n",
              "      <td>8034</td>\n",
              "      <td>-0.112478</td>\n",
              "      <td>1</td>\n",
              "      <td>-1.403052</td>\n",
              "      <td>-1.382343</td>\n",
              "      <td>-0.122939</td>\n",
              "      <td>-1.506991</td>\n",
              "      <td>1</td>\n",
              "    </tr>\n",
              "    <tr>\n",
              "      <th>2</th>\n",
              "      <td>-0.029745</td>\n",
              "      <td>0.028834</td>\n",
              "      <td>7713</td>\n",
              "      <td>8672</td>\n",
              "      <td>7866</td>\n",
              "      <td>8171</td>\n",
              "      <td>8245</td>\n",
              "      <td>-0.058529</td>\n",
              "      <td>1</td>\n",
              "      <td>-0.692232</td>\n",
              "      <td>-0.699786</td>\n",
              "      <td>-0.629481</td>\n",
              "      <td>-0.483996</td>\n",
              "      <td>1</td>\n",
              "    </tr>\n",
              "    <tr>\n",
              "      <th>3</th>\n",
              "      <td>-0.045217</td>\n",
              "      <td>0.070437</td>\n",
              "      <td>7463</td>\n",
              "      <td>9408</td>\n",
              "      <td>8516</td>\n",
              "      <td>8594</td>\n",
              "      <td>8663</td>\n",
              "      <td>-0.115287</td>\n",
              "      <td>1</td>\n",
              "      <td>-0.970104</td>\n",
              "      <td>-0.973796</td>\n",
              "      <td>1.771182</td>\n",
              "      <td>-1.546756</td>\n",
              "      <td>1</td>\n",
              "    </tr>\n",
              "    <tr>\n",
              "      <th>4</th>\n",
              "      <td>-0.096695</td>\n",
              "      <td>0.018801</td>\n",
              "      <td>7463</td>\n",
              "      <td>9408</td>\n",
              "      <td>8191</td>\n",
              "      <td>7749</td>\n",
              "      <td>7825</td>\n",
              "      <td>-0.115287</td>\n",
              "      <td>1</td>\n",
              "      <td>-1.572789</td>\n",
              "      <td>-1.564284</td>\n",
              "      <td>-0.981432</td>\n",
              "      <td>-1.546756</td>\n",
              "      <td>1</td>\n",
              "    </tr>\n",
              "  </tbody>\n",
              "</table>\n",
              "</div>\n",
              "    <div class=\"colab-df-buttons\">\n",
              "\n",
              "  <div class=\"colab-df-container\">\n",
              "    <button class=\"colab-df-convert\" onclick=\"convertToInteractive('df-fade864b-bcc1-4ea7-b27c-eed7d162ab92')\"\n",
              "            title=\"Convert this dataframe to an interactive table.\"\n",
              "            style=\"display:none;\">\n",
              "\n",
              "  <svg xmlns=\"http://www.w3.org/2000/svg\" height=\"24px\" viewBox=\"0 -960 960 960\">\n",
              "    <path d=\"M120-120v-720h720v720H120Zm60-500h600v-160H180v160Zm220 220h160v-160H400v160Zm0 220h160v-160H400v160ZM180-400h160v-160H180v160Zm440 0h160v-160H620v160ZM180-180h160v-160H180v160Zm440 0h160v-160H620v160Z\"/>\n",
              "  </svg>\n",
              "    </button>\n",
              "\n",
              "  <style>\n",
              "    .colab-df-container {\n",
              "      display:flex;\n",
              "      gap: 12px;\n",
              "    }\n",
              "\n",
              "    .colab-df-convert {\n",
              "      background-color: #E8F0FE;\n",
              "      border: none;\n",
              "      border-radius: 50%;\n",
              "      cursor: pointer;\n",
              "      display: none;\n",
              "      fill: #1967D2;\n",
              "      height: 32px;\n",
              "      padding: 0 0 0 0;\n",
              "      width: 32px;\n",
              "    }\n",
              "\n",
              "    .colab-df-convert:hover {\n",
              "      background-color: #E2EBFA;\n",
              "      box-shadow: 0px 1px 2px rgba(60, 64, 67, 0.3), 0px 1px 3px 1px rgba(60, 64, 67, 0.15);\n",
              "      fill: #174EA6;\n",
              "    }\n",
              "\n",
              "    .colab-df-buttons div {\n",
              "      margin-bottom: 4px;\n",
              "    }\n",
              "\n",
              "    [theme=dark] .colab-df-convert {\n",
              "      background-color: #3B4455;\n",
              "      fill: #D2E3FC;\n",
              "    }\n",
              "\n",
              "    [theme=dark] .colab-df-convert:hover {\n",
              "      background-color: #434B5C;\n",
              "      box-shadow: 0px 1px 3px 1px rgba(0, 0, 0, 0.15);\n",
              "      filter: drop-shadow(0px 1px 2px rgba(0, 0, 0, 0.3));\n",
              "      fill: #FFFFFF;\n",
              "    }\n",
              "  </style>\n",
              "\n",
              "    <script>\n",
              "      const buttonEl =\n",
              "        document.querySelector('#df-fade864b-bcc1-4ea7-b27c-eed7d162ab92 button.colab-df-convert');\n",
              "      buttonEl.style.display =\n",
              "        google.colab.kernel.accessAllowed ? 'block' : 'none';\n",
              "\n",
              "      async function convertToInteractive(key) {\n",
              "        const element = document.querySelector('#df-fade864b-bcc1-4ea7-b27c-eed7d162ab92');\n",
              "        const dataTable =\n",
              "          await google.colab.kernel.invokeFunction('convertToInteractive',\n",
              "                                                    [key], {});\n",
              "        if (!dataTable) return;\n",
              "\n",
              "        const docLinkHtml = 'Like what you see? Visit the ' +\n",
              "          '<a target=\"_blank\" href=https://colab.research.google.com/notebooks/data_table.ipynb>data table notebook</a>'\n",
              "          + ' to learn more about interactive tables.';\n",
              "        element.innerHTML = '';\n",
              "        dataTable['output_type'] = 'display_data';\n",
              "        await google.colab.output.renderOutput(dataTable, element);\n",
              "        const docLink = document.createElement('div');\n",
              "        docLink.innerHTML = docLinkHtml;\n",
              "        element.appendChild(docLink);\n",
              "      }\n",
              "    </script>\n",
              "  </div>\n",
              "\n",
              "\n",
              "<div id=\"df-206c0523-cba8-4f53-bb66-a2a1f1ae50ea\">\n",
              "  <button class=\"colab-df-quickchart\" onclick=\"quickchart('df-206c0523-cba8-4f53-bb66-a2a1f1ae50ea')\"\n",
              "            title=\"Suggest charts\"\n",
              "            style=\"display:none;\">\n",
              "\n",
              "<svg xmlns=\"http://www.w3.org/2000/svg\" height=\"24px\"viewBox=\"0 0 24 24\"\n",
              "     width=\"24px\">\n",
              "    <g>\n",
              "        <path d=\"M19 3H5c-1.1 0-2 .9-2 2v14c0 1.1.9 2 2 2h14c1.1 0 2-.9 2-2V5c0-1.1-.9-2-2-2zM9 17H7v-7h2v7zm4 0h-2V7h2v10zm4 0h-2v-4h2v4z\"/>\n",
              "    </g>\n",
              "</svg>\n",
              "  </button>\n",
              "\n",
              "<style>\n",
              "  .colab-df-quickchart {\n",
              "      --bg-color: #E8F0FE;\n",
              "      --fill-color: #1967D2;\n",
              "      --hover-bg-color: #E2EBFA;\n",
              "      --hover-fill-color: #174EA6;\n",
              "      --disabled-fill-color: #AAA;\n",
              "      --disabled-bg-color: #DDD;\n",
              "  }\n",
              "\n",
              "  [theme=dark] .colab-df-quickchart {\n",
              "      --bg-color: #3B4455;\n",
              "      --fill-color: #D2E3FC;\n",
              "      --hover-bg-color: #434B5C;\n",
              "      --hover-fill-color: #FFFFFF;\n",
              "      --disabled-bg-color: #3B4455;\n",
              "      --disabled-fill-color: #666;\n",
              "  }\n",
              "\n",
              "  .colab-df-quickchart {\n",
              "    background-color: var(--bg-color);\n",
              "    border: none;\n",
              "    border-radius: 50%;\n",
              "    cursor: pointer;\n",
              "    display: none;\n",
              "    fill: var(--fill-color);\n",
              "    height: 32px;\n",
              "    padding: 0;\n",
              "    width: 32px;\n",
              "  }\n",
              "\n",
              "  .colab-df-quickchart:hover {\n",
              "    background-color: var(--hover-bg-color);\n",
              "    box-shadow: 0 1px 2px rgba(60, 64, 67, 0.3), 0 1px 3px 1px rgba(60, 64, 67, 0.15);\n",
              "    fill: var(--button-hover-fill-color);\n",
              "  }\n",
              "\n",
              "  .colab-df-quickchart-complete:disabled,\n",
              "  .colab-df-quickchart-complete:disabled:hover {\n",
              "    background-color: var(--disabled-bg-color);\n",
              "    fill: var(--disabled-fill-color);\n",
              "    box-shadow: none;\n",
              "  }\n",
              "\n",
              "  .colab-df-spinner {\n",
              "    border: 2px solid var(--fill-color);\n",
              "    border-color: transparent;\n",
              "    border-bottom-color: var(--fill-color);\n",
              "    animation:\n",
              "      spin 1s steps(1) infinite;\n",
              "  }\n",
              "\n",
              "  @keyframes spin {\n",
              "    0% {\n",
              "      border-color: transparent;\n",
              "      border-bottom-color: var(--fill-color);\n",
              "      border-left-color: var(--fill-color);\n",
              "    }\n",
              "    20% {\n",
              "      border-color: transparent;\n",
              "      border-left-color: var(--fill-color);\n",
              "      border-top-color: var(--fill-color);\n",
              "    }\n",
              "    30% {\n",
              "      border-color: transparent;\n",
              "      border-left-color: var(--fill-color);\n",
              "      border-top-color: var(--fill-color);\n",
              "      border-right-color: var(--fill-color);\n",
              "    }\n",
              "    40% {\n",
              "      border-color: transparent;\n",
              "      border-right-color: var(--fill-color);\n",
              "      border-top-color: var(--fill-color);\n",
              "    }\n",
              "    60% {\n",
              "      border-color: transparent;\n",
              "      border-right-color: var(--fill-color);\n",
              "    }\n",
              "    80% {\n",
              "      border-color: transparent;\n",
              "      border-right-color: var(--fill-color);\n",
              "      border-bottom-color: var(--fill-color);\n",
              "    }\n",
              "    90% {\n",
              "      border-color: transparent;\n",
              "      border-bottom-color: var(--fill-color);\n",
              "    }\n",
              "  }\n",
              "</style>\n",
              "\n",
              "  <script>\n",
              "    async function quickchart(key) {\n",
              "      const quickchartButtonEl =\n",
              "        document.querySelector('#' + key + ' button');\n",
              "      quickchartButtonEl.disabled = true;  // To prevent multiple clicks.\n",
              "      quickchartButtonEl.classList.add('colab-df-spinner');\n",
              "      try {\n",
              "        const charts = await google.colab.kernel.invokeFunction(\n",
              "            'suggestCharts', [key], {});\n",
              "      } catch (error) {\n",
              "        console.error('Error during call to suggestCharts:', error);\n",
              "      }\n",
              "      quickchartButtonEl.classList.remove('colab-df-spinner');\n",
              "      quickchartButtonEl.classList.add('colab-df-quickchart-complete');\n",
              "    }\n",
              "    (() => {\n",
              "      let quickchartButtonEl =\n",
              "        document.querySelector('#df-206c0523-cba8-4f53-bb66-a2a1f1ae50ea button');\n",
              "      quickchartButtonEl.style.display =\n",
              "        google.colab.kernel.accessAllowed ? 'block' : 'none';\n",
              "    })();\n",
              "  </script>\n",
              "</div>\n",
              "\n",
              "    </div>\n",
              "  </div>\n"
            ]
          },
          "metadata": {},
          "execution_count": 111
        }
      ]
    },
    {
      "cell_type": "code",
      "source": [
        "df['predicted'].value_counts()"
      ],
      "metadata": {
        "colab": {
          "base_uri": "https://localhost:8080/"
        },
        "id": "ru-XdL14kr8w",
        "outputId": "f49234db-e8f6-4740-9690-311939c3bc9f"
      },
      "execution_count": 112,
      "outputs": [
        {
          "output_type": "execute_result",
          "data": {
            "text/plain": [
              "0    134021\n",
              "1    120179\n",
              "Name: predicted, dtype: int64"
            ]
          },
          "metadata": {},
          "execution_count": 112
        }
      ]
    },
    {
      "cell_type": "code",
      "source": [
        "df['y'].value_counts()"
      ],
      "metadata": {
        "colab": {
          "base_uri": "https://localhost:8080/"
        },
        "id": "Hu4W2V7Ukwzb",
        "outputId": "a622f569-c153-4609-979a-227cbd394734"
      },
      "execution_count": 113,
      "outputs": [
        {
          "output_type": "execute_result",
          "data": {
            "text/plain": [
              "1    127100\n",
              "0    127100\n",
              "Name: y, dtype: int64"
            ]
          },
          "metadata": {},
          "execution_count": 113
        }
      ]
    },
    {
      "cell_type": "code",
      "source": [
        "###############   this is result after normalizing indices...."
      ],
      "metadata": {
        "id": "HGAQc_1qk5TK"
      },
      "execution_count": null,
      "outputs": []
    },
    {
      "cell_type": "code",
      "source": [
        "#What are the most impacting variables?\n",
        "#### From summary of the model\n",
        "\n",
        "\n",
        "import statsmodels.api as sm\n",
        "logit1=sm.Logit(df['y'],df[['trans_NDVI']+['trans_MNDWI']+['trans_INDEX']])\n",
        "\n",
        "logit1"
      ],
      "metadata": {
        "colab": {
          "base_uri": "https://localhost:8080/"
        },
        "id": "1IIaViNflI9x",
        "outputId": "df5b0019-1689-4dbb-eeca-f189277c5714"
      },
      "execution_count": 114,
      "outputs": [
        {
          "output_type": "execute_result",
          "data": {
            "text/plain": [
              "<statsmodels.discrete.discrete_model.Logit at 0x79780be3ed10>"
            ]
          },
          "metadata": {},
          "execution_count": 114
        }
      ]
    },
    {
      "cell_type": "code",
      "source": [
        "result=logit1.fit()\n",
        "result.summary()"
      ],
      "metadata": {
        "colab": {
          "base_uri": "https://localhost:8080/",
          "height": 313
        },
        "id": "HhIh-S86li-U",
        "outputId": "3fd6f34e-fb49-4ede-ea5a-296b6f73d646"
      },
      "execution_count": 115,
      "outputs": [
        {
          "output_type": "stream",
          "name": "stdout",
          "text": [
            "Optimization terminated successfully.\n",
            "         Current function value: 0.377199\n",
            "         Iterations 7\n"
          ]
        },
        {
          "output_type": "execute_result",
          "data": {
            "text/plain": [
              "<class 'statsmodels.iolib.summary.Summary'>\n",
              "\"\"\"\n",
              "                           Logit Regression Results                           \n",
              "==============================================================================\n",
              "Dep. Variable:                      y   No. Observations:               254200\n",
              "Model:                          Logit   Df Residuals:                   254197\n",
              "Method:                           MLE   Df Model:                            2\n",
              "Date:                Wed, 17 Jan 2024   Pseudo R-squ.:                  0.4558\n",
              "Time:                        23:18:25   Log-Likelihood:                -95884.\n",
              "converged:                       True   LL-Null:                   -1.7620e+05\n",
              "Covariance Type:            nonrobust   LLR p-value:                     0.000\n",
              "===============================================================================\n",
              "                  coef    std err          z      P>|z|      [0.025      0.975]\n",
              "-------------------------------------------------------------------------------\n",
              "trans_NDVI     -0.5280      0.021    -25.332      0.000      -0.569      -0.487\n",
              "trans_MNDWI    -0.0089      0.016     -0.557      0.577      -0.040       0.022\n",
              "trans_INDEX    -2.3277      0.023   -101.001      0.000      -2.373      -2.283\n",
              "===============================================================================\n",
              "\"\"\""
            ],
            "text/html": [
              "<table class=\"simpletable\">\n",
              "<caption>Logit Regression Results</caption>\n",
              "<tr>\n",
              "  <th>Dep. Variable:</th>           <td>y</td>        <th>  No. Observations:  </th>   <td>254200</td>   \n",
              "</tr>\n",
              "<tr>\n",
              "  <th>Model:</th>                 <td>Logit</td>      <th>  Df Residuals:      </th>   <td>254197</td>   \n",
              "</tr>\n",
              "<tr>\n",
              "  <th>Method:</th>                 <td>MLE</td>       <th>  Df Model:          </th>   <td>     2</td>   \n",
              "</tr>\n",
              "<tr>\n",
              "  <th>Date:</th>            <td>Wed, 17 Jan 2024</td> <th>  Pseudo R-squ.:     </th>   <td>0.4558</td>   \n",
              "</tr>\n",
              "<tr>\n",
              "  <th>Time:</th>                <td>23:18:25</td>     <th>  Log-Likelihood:    </th>  <td> -95884.</td>  \n",
              "</tr>\n",
              "<tr>\n",
              "  <th>converged:</th>             <td>True</td>       <th>  LL-Null:           </th> <td>-1.7620e+05</td>\n",
              "</tr>\n",
              "<tr>\n",
              "  <th>Covariance Type:</th>     <td>nonrobust</td>    <th>  LLR p-value:       </th>   <td> 0.000</td>   \n",
              "</tr>\n",
              "</table>\n",
              "<table class=\"simpletable\">\n",
              "<tr>\n",
              "       <td></td>          <th>coef</th>     <th>std err</th>      <th>z</th>      <th>P>|z|</th>  <th>[0.025</th>    <th>0.975]</th>  \n",
              "</tr>\n",
              "<tr>\n",
              "  <th>trans_NDVI</th>  <td>   -0.5280</td> <td>    0.021</td> <td>  -25.332</td> <td> 0.000</td> <td>   -0.569</td> <td>   -0.487</td>\n",
              "</tr>\n",
              "<tr>\n",
              "  <th>trans_MNDWI</th> <td>   -0.0089</td> <td>    0.016</td> <td>   -0.557</td> <td> 0.577</td> <td>   -0.040</td> <td>    0.022</td>\n",
              "</tr>\n",
              "<tr>\n",
              "  <th>trans_INDEX</th> <td>   -2.3277</td> <td>    0.023</td> <td> -101.001</td> <td> 0.000</td> <td>   -2.373</td> <td>   -2.283</td>\n",
              "</tr>\n",
              "</table>"
            ],
            "text/latex": "\\begin{center}\n\\begin{tabular}{lclc}\n\\toprule\n\\textbf{Dep. Variable:}   &        y         & \\textbf{  No. Observations:  } &    254200    \\\\\n\\textbf{Model:}           &      Logit       & \\textbf{  Df Residuals:      } &    254197    \\\\\n\\textbf{Method:}          &       MLE        & \\textbf{  Df Model:          } &         2    \\\\\n\\textbf{Date:}            & Wed, 17 Jan 2024 & \\textbf{  Pseudo R-squ.:     } &    0.4558    \\\\\n\\textbf{Time:}            &     23:18:25     & \\textbf{  Log-Likelihood:    } &    -95884.   \\\\\n\\textbf{converged:}       &       True       & \\textbf{  LL-Null:           } & -1.7620e+05  \\\\\n\\textbf{Covariance Type:} &    nonrobust     & \\textbf{  LLR p-value:       } &     0.000    \\\\\n\\bottomrule\n\\end{tabular}\n\\begin{tabular}{lcccccc}\n                      & \\textbf{coef} & \\textbf{std err} & \\textbf{z} & \\textbf{P$> |$z$|$} & \\textbf{[0.025} & \\textbf{0.975]}  \\\\\n\\midrule\n\\textbf{trans\\_NDVI}  &      -0.5280  &        0.021     &   -25.332  &         0.000        &       -0.569    &       -0.487     \\\\\n\\textbf{trans\\_MNDWI} &      -0.0089  &        0.016     &    -0.557  &         0.577        &       -0.040    &        0.022     \\\\\n\\textbf{trans\\_INDEX} &      -2.3277  &        0.023     &  -101.001  &         0.000        &       -2.373    &       -2.283     \\\\\n\\bottomrule\n\\end{tabular}\n%\\caption{Logit Regression Results}\n\\end{center}"
          },
          "metadata": {},
          "execution_count": 115
        }
      ]
    },
    {
      "cell_type": "code",
      "source": [
        "##########   still   Z is not according to desired one...."
      ],
      "metadata": {
        "id": "G6fSMrjPlnCl"
      },
      "execution_count": null,
      "outputs": []
    },
    {
      "cell_type": "code",
      "source": [
        "\n",
        "logistic= LogisticRegression()\n",
        "logistic.fit(df[['trans_NDVI']+['trans_MNDWI']+['trans_INDEX']], df['y'])   #### fit on TRAINING DATA IN DF\n",
        "LogisticRegression(C=1.0, class_weight=None, dual=False, fit_intercept=True,\n",
        "          intercept_scaling=1, max_iter=100, multi_class='ovr', n_jobs=1,\n",
        "          penalty='l2', random_state=None, solver='liblinear', tol=0.0001,\n",
        "          verbose=0, warm_start=False)\n",
        "id = 0\n",
        "for file in test_satellite_file_list:\n",
        "    test_df = pd.DataFrame()\n",
        "    test_df['swir'] = np.array(test_satellite_data_with_data_list_swir[id].flatten())\n",
        "    test_df['nir'] = np.array(test_satellite_data_with_data_list_nir[id].flatten())\n",
        "    test_df['NDVI'] = np.array(test_satellite_data_with_data_list_ndvi[id].flatten())\n",
        "    test_df['MNDWI'] = np.array(test_satellite_data_with_data_list_mndwi[id].flatten())\n",
        "    test_df['red'] = np.array(test_satellite_data_with_data_list_red[id].flatten())\n",
        "    test_df['green'] = np.array(test_satellite_data_with_data_list_green[id].flatten())\n",
        "    test_df['blue'] = np.array(test_satellite_data_with_data_list_blue[id].flatten())\n",
        "    test_df['INDEX'] = np.array(test_satellite_data_with_data_list_index[id].flatten())\n",
        "\n",
        "    id+=1                      ######## increment id by 1 for next image data\n",
        "\n",
        "    trans_NDVI = transform_data(np.array(test_df['NDVI']))\n",
        "    trans_MNDWI = transform_data(np.array(test_df['MNDWI']))\n",
        "    trans_INDEX = transform_data(np.array(test_df['INDEX']))\n",
        "\n",
        "\n",
        "    test_df['trans_NDVI'] = trans_NDVI\n",
        "    test_df['trans_MNDWI'] = trans_MNDWI\n",
        "    test_df['trans_INDEX'] = trans_INDEX\n",
        "    predict_df=logistic.predict(test_df[['trans_NDVI']+['trans_MNDWI']+['trans_INDEX']])  ### Predict on Test data in test_df\n",
        "    test_df['predicted'] = predict_df\n",
        "    image = np.array(predict_df)\n",
        "    image = image.reshape(350,350)\n",
        "    with rasterio.open('/content/drive/MyDrive/test_satellite/'+file) as src:\n",
        "      profile = src.profile\n",
        "      profile.update(dtype=rasterio.uint8,count=1)\n",
        "      s = file.split('_')\n",
        "      ss = s[0] + '_kelp.tif'\n",
        "      with rasterio.open('/content/drive/MyDrive/RADHA_KRISHNA/'+ss,'w',**profile) as dst:\n",
        "        dst.write(image,1)"
      ],
      "metadata": {
        "id": "UFE7j4Lul6pG"
      },
      "execution_count": null,
      "outputs": []
    }
  ],
  "metadata": {
    "accelerator": "TPU",
    "colab": {
      "machine_shape": "hm",
      "provenance": [],
      "mount_file_id": "1XMNHpI4wWR_sQrkxlKOdzvm0NZitl2pY",
      "authorship_tag": "ABX9TyMkZiXCv6q35WVaAffKvaJP",
      "include_colab_link": true
    },
    "kernelspec": {
      "display_name": "Python 3",
      "name": "python3"
    },
    "language_info": {
      "name": "python"
    }
  },
  "nbformat": 4,
  "nbformat_minor": 0
}